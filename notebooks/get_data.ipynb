{
 "cells": [
  {
   "cell_type": "markdown",
   "metadata": {},
   "source": [
    "## Imports"
   ]
  },
  {
   "cell_type": "code",
   "execution_count": 1,
   "metadata": {},
   "outputs": [],
   "source": [
    "import pickle"
   ]
  },
  {
   "cell_type": "code",
   "execution_count": 2,
   "metadata": {},
   "outputs": [],
   "source": [
    "%cd ../src/"
   ]
  },
  {
   "cell_type": "code",
   "execution_count": 3,
   "metadata": {},
   "outputs": [],
   "source": [
    "import get_data"
   ]
  },
  {
   "cell_type": "code",
   "execution_count": 4,
   "metadata": {},
   "outputs": [
    {
     "name": "stdout",
     "output_type": "stream",
     "text": [
      "/home/nt/Desktop/JHU/Time Series Analysis/ckt-time-series-analysis/notebooks\n"
     ]
    }
   ],
   "source": [
    "%cd ../notebooks/"
   ]
  },
  {
   "cell_type": "markdown",
   "metadata": {},
   "source": [
    "## Get data"
   ]
  },
  {
   "cell_type": "code",
   "execution_count": 5,
   "metadata": {},
   "outputs": [],
   "source": [
    "commod = get_data.Data.get_commod_data()\n",
    "econ = get_data.Data.get_econ_data()"
   ]
  },
  {
   "cell_type": "markdown",
   "metadata": {},
   "source": [
    "## Save data"
   ]
  },
  {
   "cell_type": "code",
   "execution_count": 6,
   "metadata": {},
   "outputs": [
    {
     "name": "stdout",
     "output_type": "stream",
     "text": [
      "/home/nt/Desktop/JHU/Time Series Analysis/ckt-time-series-analysis/data\n"
     ]
    }
   ],
   "source": [
    "%cd ../data/"
   ]
  },
  {
   "cell_type": "code",
   "execution_count": 7,
   "metadata": {},
   "outputs": [],
   "source": [
    "pickle.dump(commod[\"oil\"], open(\"oil.pickle\", \"wb\"))\n",
    "pickle.dump(commod[\"gasoline\"], open(\"gasoline.pickle\", \"wb\"))\n",
    "pickle.dump(commod[\"natgas\"], open(\"natgas.pickle\", \"wb\"))\n",
    "pickle.dump(commod[\"corn\"], open(\"corn.pickle\", \"wb\"))\n",
    "pickle.dump(commod[\"wheat\"], open(\"wheat.pickle\", \"wb\"))"
   ]
  },
  {
   "cell_type": "code",
   "execution_count": 8,
   "metadata": {},
   "outputs": [],
   "source": [
    "pickle.dump(econ[\"cons_sent\"], open(\"cons_sent.pickle\", \"wb\"))\n",
    "pickle.dump(econ[\"fred_gdp\"], open(\"fred_gdp.pickle\", \"wb\"))\n",
    "pickle.dump(econ[\"us_yields\"], open(\"us_yields.pickle\", \"wb\"))"
   ]
  },
  {
   "cell_type": "code",
   "execution_count": 9,
   "metadata": {},
   "outputs": [
    {
     "name": "stdout",
     "output_type": "stream",
     "text": [
      "/home/nt/Desktop/JHU/Time Series Analysis/ckt-time-series-analysis/notebooks\n"
     ]
    }
   ],
   "source": [
    "%cd ../notebooks/"
   ]
  }
 ],
 "metadata": {
  "kernelspec": {
   "display_name": "Python 3",
   "language": "python",
   "name": "python3"
  },
  "language_info": {
   "codemirror_mode": {
    "name": "ipython",
    "version": 3
   },
   "file_extension": ".py",
   "mimetype": "text/x-python",
   "name": "python",
   "nbconvert_exporter": "python",
   "pygments_lexer": "ipython3",
   "version": "3.7.3"
  }
 },
 "nbformat": 4,
 "nbformat_minor": 2
}
