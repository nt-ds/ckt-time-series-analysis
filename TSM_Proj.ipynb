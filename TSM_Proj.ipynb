{
 "cells": [
  {
   "cell_type": "code",
   "execution_count": 1,
   "metadata": {},
   "outputs": [],
   "source": [
    "# imports\n",
    "import pandas_datareader as pdr\n",
    "import pandas as pd\n",
    "import datetime as datetime\n",
    "import matplotlib.pyplot as plt\n",
    "import seaborn as sns\n",
    "import quandl\n",
    "import statsmodels.api as smapi\n",
    "import statsmodels.tsa as tsa\n",
    "import numpy as np\n",
    "import scipy as sp\n",
    "import pickle\n",
    "import warnings\n",
    "warnings.filterwarnings(\"ignore\")\n",
    "%matplotlib inline"
   ]
  },
  {
   "cell_type": "code",
   "execution_count": 17,
   "metadata": {},
   "outputs": [],
   "source": [
    "class DATA():\n",
    "    # economic data\n",
    "    \n",
    "    @classmethod\n",
    "    def get_commod_data(cls,*args,**kwargs):\n",
    "        data = {'oil': cls.get_oil_data, 'gasoline':cls.get_gasoline_data,\n",
    "                'natgas': cls.get_natgas_data, 'corn':cls.get_corn_data,\n",
    "                'wheat':cls.get_wheat_data}\n",
    "        \n",
    "        results = {x: data[x](*args,**kwargs) for x in data.keys()}\n",
    "        return results\n",
    "    \n",
    "    #commodities data\n",
    "    @staticmethod\n",
    "    def get_oil(*args,**kwargs):\n",
    "        data = quandl.get(\"CHRIS/CME_QM1\")\n",
    "        return data\n",
    "    @staticmethod\n",
    "    def get_gasoline(*args,**kwargs):\n",
    "        data = quandl.get(\"CHRIS/ICE_N1\")\n",
    "        return data\n",
    "    @staticmethod\n",
    "    def get_natgas(*args, **kwargs):\n",
    "        data = quandl.get(\"CHRIS/CME_NG2\")\n",
    "    @staticmethod\n",
    "    def get_corn(*args, **kwargs):\n",
    "        data = quandl.get(\"CHRIS/LIFFE_EMA2\")\n",
    "        return data\n",
    "    @staticmethod\n",
    "    def get_wheat(*args, **kwargs):\n",
    "        data = quandl.get(\"CHRIS/CME_W4\")\n",
    "        return data\n",
    "    # Economic data\n",
    "    @staticmethod\n",
    "    def get_mich_cons_sent(*args, **kwargs):\n",
    "        data = quandl.get('UMICH/SOC1')\n",
    "        return data['Index']\n",
    "    @staticmethod\n",
    "    def get_fred_gdp(*args,**kwargs):\n",
    "        data = quandl.get(\"FRED/GDP\")\n",
    "        return data\n",
    "    # interest rate data\n",
    "    @staticmethod\n",
    "    def get_us_yields(*args,**kwargs):\n",
    "        data = quandl.get(\"USTREASURY/YIELD\")\n",
    "        return data\n",
    "    \n",
    "class STATS():\n",
    "    @staticmethod\n",
    "    def Demean(data,*args,**kwargs):\n",
    "        dem_data = data.subtract(data.mean())\n",
    "        return dem_data\n",
    "    \n",
    "    @staticmethod\n",
    "    def two_sample_test(data,*args,**kwargs):\n",
    "        # method to split data into two equal half samples and run some simple comparisons to check for stationarity\n",
    "        # note: it's very likely we will not be able to fully prove it but if we can get reasonably close it will save\n",
    "        # us alot of work\n",
    "        ndim = len(data)\n",
    "        data_fh = data[:int(ndim/2)]\n",
    "        data_sh =data[int(ndim/2):]\n",
    "        mean_fh = data_fh.mean()\n",
    "        mean_sh = data_sh.mean()\n",
    "        var_fh = data_fh.var()\n",
    "        var_sh = data_sh.var()\n",
    "        # getting the \n",
    "        \n",
    "        results = {'mu_fh':mean_fh,'mu_sh':mean_sh,'var_fh': var_fh, 'var_sh': var_sh}\n",
    "        return pd.Series(results)\n",
    "    \n",
    "    @staticmethod\n",
    "    def ADFuller(data,*args,**kwargs):\n",
    "        # method to run augmented dickey-fuller test for unit-root\n",
    "        # if we can reject the null our series is probably weakly stationary\n",
    "        # the default is that the series is to run with a constant (i.e. non-zero mean)\n",
    "        # but we can demean the series first\n",
    "        # we can put a max-lag after the fact\n",
    "        # note that lag convention is pythonic i.e. lag=0 means an AR(1)\n",
    "        \n",
    "        def_args = {}\n",
    "        def_args['maxlag']=kwargs.get('maxlag',None)\n",
    "        def_args['regression']=kwargs.get('regression','c')\n",
    "        def_args['autolag']=kwargs.get('autolag','AIC')\n",
    "        def_args['store']=kwargs.get('store',False)\n",
    "        def_args['regresults']=kwargs.get('regresults',True)\n",
    "        \n",
    "        results = tsa.stattools.adfuller(data.values.reshape(-1,),**def_args)\n",
    "        return results\n",
    "    \n",
    "    @staticmethod\n",
    "    def compute_acf(data,*args,**kwargs):\n",
    "        # return the sample autocorrelation function\n",
    "        # by default return the confidence intervals\n",
    "    \n",
    "        def_args = {}\n",
    "        def_args['unbiased']=kwargs.get('unbiased',False)\n",
    "        def_args['nlags']=kwargs.get('nlags',36)\n",
    "        def_args['qstat']=kwargs.get('qstat',False)\n",
    "        def_args['alpha']=kwargs.get('alpha',0.05)\n",
    "        \n",
    "        results = tsa.stattools.acf(data,**def_args)\n",
    "        return results\n",
    "    \n",
    "    @staticmethod\n",
    "    def compute_pacf(data,*args,**kwargs):\n",
    "        # return the sample autocorrelation function\n",
    "        # by default return the confidence intervals\n",
    "        def_args = {}\n",
    "        def_args['nlags']=kwargs.get('nlags',36)\n",
    "        def_args['method']=kwargs.get('method','ywunbiased')\n",
    "        def_args['alpha']=kwargs.get('alpha',0.05)\n",
    "        \n",
    "        results = tsa.stattools.pacf(data,**def_args)\n",
    "        return results\n",
    "    \n",
    "    @staticmethod\n",
    "    def AR_model(data,*args,**kwargs):\n",
    "        def_args = {}\n",
    "        def_args['dates'] = kwargs.get('dates',None)\n",
    "        def_args['freq'] = kwargs.get('freq',None)\n",
    "        def_args['missing'] = kwargs.get('missing',None)\n",
    "        armodel= tsa.ar_model.AR(data.values.reshape(-1,),**def_args)\n",
    "        return armodel\n",
    "                \n",
    "    @staticmethod\n",
    "    def ARMA_model(data,maxp=3,maxq=3,*args,**kwargs):\n",
    "        plags=range(maxp+1)\n",
    "        qlags=range(maxq+1)\n",
    "        p_q = [(x,y) for x in plags for y in qlags]\n",
    "        all_models = {'arma({0},{1})'.format(x[0],x[1]):tsa.arima_model.ARMA(data,x,) for x in p_q}\n",
    "        return all_models\n",
    "                \n",
    "    @staticmethod\n",
    "    def ARIMA_model(data,maxp=3,maxq=3,maxd=1,*args,**kwargs):\n",
    "        plags=range(maxp+1)\n",
    "        dlags=range(maxd+1)\n",
    "        qlags=range(maxq+1)\n",
    "        p_d_q = [(x,z,y) for x in plags for z in dlags for y in qlags]\n",
    "        all_models = {'arima({0},{1},{2})'.format(x[0],x[1],x[2]):tsa.arima_model.ARIMA(endog=data,order=x,) for x in p_d_q}\n",
    "        return all_models\n",
    "        \n",
    "    @staticmethod\n",
    "    def SARIMA_model(data,maxp=3,maxq=3,maxd=1,maxP=0,maxD=0,maxQ=0,maxs=[0,],*args,**kwargs):\n",
    "        plags=range(maxp+1)\n",
    "        dlags=range(maxd+1)\n",
    "        qlags=range(maxq+1)\n",
    "        p_d_q = [(x,z,y) for x in plags for z in dlags for y in qlags]\n",
    "        \n",
    "        Plags=range(maxP+1)\n",
    "        Dlags=range(maxD+1)\n",
    "        Qlags=range(maxQ+1)\n",
    "        slags=maxs\n",
    "        P_D_Q_s = [(a,b,c,d) for a in Plags for b in Dlags for c in Qlags for d in slags]\n",
    "        \n",
    "        combs = [(x,y) for x in p_d_q for y in P_D_Q_s]\n",
    "        sarima_ = tsa.statespace.sarimax.SARIMAX\n",
    "        \n",
    "        all_models={}\n",
    "        for s_combo in combs:\n",
    "            try:\n",
    "                all_models['sarima({0}X{1})'.format(s_combo[0],s_combo[1])]=sarima_(endog=data,exog=None,order=s_combo[0],seasonal_order=s_combo[1],trend=None,)\n",
    "            except:\n",
    "                pass\n",
    "                \n",
    "        return all_models\n",
    "        \n",
    "#         statsmodels.tsa.statespace.sarimax.SARIMAX(endog, exog=None, order=(1, 0, 0), seasonal_order=(0, 0, 0, 0), trend=None, measurement_error=False, time_varying_regression=False, mle_regression=True, simple_differencing=False, enforce_stationarity=True, \n",
    "#                                                    enforce_invertibility=True, hamilton_representation=False, concentrate_scale=False, **kwargs)[source]\n",
    "\n",
    "            \n",
    "class PLOTTERS():\n",
    "    @staticmethod\n",
    "    def line_plot(data,xlabel=None,ylabel=None, *args,**kwargs):\n",
    "        fig_ = plt.gcf()\n",
    "        ax_ = data.plot()\n",
    "        return fig_,ax_\n",
    "        \n",
    "        \n",
    "        \n"
   ]
  },
  {
   "cell_type": "markdown",
   "metadata": {},
   "source": [
    "##### Raw script"
   ]
  },
  {
   "cell_type": "markdown",
   "metadata": {},
   "source": [
    "### Getting the data"
   ]
  },
  {
   "cell_type": "code",
   "execution_count": 33,
   "metadata": {},
   "outputs": [
    {
     "data": {
      "text/plain": [
       "<matplotlib.axes._subplots.AxesSubplot at 0x182d9a9c6d8>"
      ]
     },
     "execution_count": 33,
     "metadata": {},
     "output_type": "execute_result"
    },
    {
     "data": {
      "image/png": "[encoded data removed]",
      "text/plain": [
       "<Figure size 432x288 with 1 Axes>"
      ]
     },
     "metadata": {
      "needs_background": "light"
     },
     "output_type": "display_data"
    }
   ],
   "source": [
    "# Getting the the data\n",
    "data_cons = DATA.get_mich_cons_sent().truncate(before=datetime.datetime(1978,1,30))\n",
    "data_cons.plot()"
   ]
  },
  {
   "cell_type": "markdown",
   "metadata": {},
   "source": [
    "Notes: this is consumer sentiment data. The mean appears to be pretty stable and there are no obvious seasonal or trending patterns over the data"
   ]
  },
  {
   "cell_type": "markdown",
   "metadata": {},
   "source": [
    "### Estimating and sample and partial ACFs"
   ]
  },
  {
   "cell_type": "code",
   "execution_count": 34,
   "metadata": {},
   "outputs": [
    {
     "data": {
      "text/plain": [
       "[<matplotlib.lines.Line2D at 0x182db1dbf60>]"
      ]
     },
     "execution_count": 34,
     "metadata": {},
     "output_type": "execute_result"
    },
    {
     "data": {
      "image/png": "[encoded data removed]",
      "text/plain": [
       "<Figure size 432x288 with 2 Axes>"
      ]
     },
     "metadata": {
      "needs_background": "light"
     },
     "output_type": "display_data"
    }
   ],
   "source": [
    "data_acf =STATS.compute_acf(data_cons)\n",
    "data_pacf=STATS.compute_pacf(data_cons)\n",
    "plt.subplot(221)\n",
    "plt.plot(data_acf[0])\n",
    "plt.subplot(222)\n",
    "plt.plot(data_pacf[0])"
   ]
  },
  {
   "cell_type": "markdown",
   "metadata": {},
   "source": [
    "Sample and partial autocorrelation functions plotted above. The sample autocorrelation suggests that there is persistence in the data but the PACF suggests that getting one lag incorporated reduces the other lags to near zero"
   ]
  },
  {
   "cell_type": "markdown",
   "metadata": {},
   "source": [
    "### Stationarity test"
   ]
  },
  {
   "cell_type": "code",
   "execution_count": 35,
   "metadata": {},
   "outputs": [],
   "source": [
    "simple_test = STATS.two_sample_test(data_cons)\n",
    "# get up to two lags\n",
    "adfuller_test_lag1 = STATS.ADFuller(data_cons,maxlag=1)\n",
    "adfuller_test_lag2 = STATS.ADFuller(data_cons,maxlag=2)\n",
    "adfuller_test_lag3 = STATS.ADFuller(data_cons,maxlag=3)\n",
    "adfuller_test_lag4 = STATS.ADFuller(data_cons,maxlag=4)\n",
    "\n",
    "adfuller_fulltest = STATS.ADFuller(data_cons)"
   ]
  },
  {
   "cell_type": "code",
   "execution_count": 36,
   "metadata": {},
   "outputs": [
    {
     "data": {
      "text/plain": [
       "mu_fh      85.760400\n",
       "mu_sh      86.729880\n",
       "var_fh    157.506739\n",
       "var_sh    162.534024\n",
       "dtype: float64"
      ]
     },
     "execution_count": 36,
     "metadata": {},
     "output_type": "execute_result"
    }
   ],
   "source": [
    "simple_test"
   ]
  },
  {
   "cell_type": "markdown",
   "metadata": {},
   "source": [
    "Notes: hard to tell much from this simple test. Probably will need to add some simple pair-mean / pair-variance tests but neither the means nor std. deviation look drastically different so this might suggest the data is near stationary - which is good!"
   ]
  },
  {
   "cell_type": "code",
   "execution_count": 37,
   "metadata": {},
   "outputs": [
    {
     "data": {
      "text/plain": [
       "(-3.451318422837428,\n",
       " 0.009328982189318298,\n",
       " {'1%': -3.443496379464, '5%': -2.8673378563200003, '10%': -2.569858036},\n",
       " <statsmodels.tsa.stattools.ResultsStore at 0x182db20e0f0>)"
      ]
     },
     "execution_count": 37,
     "metadata": {},
     "output_type": "execute_result"
    }
   ],
   "source": [
    "adfuller_test_lag1"
   ]
  },
  {
   "cell_type": "code",
   "execution_count": 38,
   "metadata": {},
   "outputs": [
    {
     "data": {
      "text/plain": [
       "(-3.020306731000242,\n",
       " 0.03304103460390658,\n",
       " {'1%': -3.4435494520411605,\n",
       "  '5%': -2.8673612117611267,\n",
       "  '10%': -2.5698704830567247},\n",
       " <statsmodels.tsa.stattools.ResultsStore at 0x182db20e550>)"
      ]
     },
     "execution_count": 38,
     "metadata": {},
     "output_type": "execute_result"
    }
   ],
   "source": [
    "adfuller_test_lag2"
   ]
  },
  {
   "cell_type": "code",
   "execution_count": 39,
   "metadata": {},
   "outputs": [
    {
     "data": {
      "text/plain": [
       "(-3.020306731000242,\n",
       " 0.03304103460390658,\n",
       " {'1%': -3.4435494520411605,\n",
       "  '5%': -2.8673612117611267,\n",
       "  '10%': -2.5698704830567247},\n",
       " <statsmodels.tsa.stattools.ResultsStore at 0x182db20e6d8>)"
      ]
     },
     "execution_count": 39,
     "metadata": {},
     "output_type": "execute_result"
    }
   ],
   "source": [
    "adfuller_test_lag3"
   ]
  },
  {
   "cell_type": "code",
   "execution_count": 40,
   "metadata": {},
   "outputs": [
    {
     "data": {
      "text/plain": [
       "(-3.451318422837428,\n",
       " 0.009328982189318298,\n",
       " {'1%': -3.443496379464, '5%': -2.8673378563200003, '10%': -2.569858036},\n",
       " <statsmodels.tsa.stattools.ResultsStore at 0x182db20e390>)"
      ]
     },
     "execution_count": 40,
     "metadata": {},
     "output_type": "execute_result"
    }
   ],
   "source": [
    "adfuller_test_lag4"
   ]
  },
  {
   "cell_type": "code",
   "execution_count": 41,
   "metadata": {},
   "outputs": [
    {
     "data": {
      "text/plain": [
       "(-2.377886795443703,\n",
       " 0.14807520586913447,\n",
       " {'1%': -3.4436298692815304,\n",
       "  '5%': -2.867396599893435,\n",
       "  '10%': -2.5698893429241916},\n",
       " <statsmodels.tsa.stattools.ResultsStore at 0x182db20e828>)"
      ]
     },
     "execution_count": 41,
     "metadata": {},
     "output_type": "execute_result"
    }
   ],
   "source": [
    "adfuller_fulltest"
   ]
  },
  {
   "cell_type": "code",
   "execution_count": 42,
   "metadata": {},
   "outputs": [
    {
     "data": {
      "text/plain": [
       "5"
      ]
     },
     "execution_count": 42,
     "metadata": {},
     "output_type": "execute_result"
    }
   ],
   "source": [
    "adfuller_fulltest[-1].usedlag"
   ]
  },
  {
   "cell_type": "markdown",
   "metadata": {},
   "source": [
    "Notes: this is decent result. A simple 2-lag (AR(3)) Augmented Dickey-Fuller test suggests that we can reject the null hypothesis that there is a unit root. A full test allowing the model to find the 'best-fit' suggests we cannot reject the null at even the 10% which is potentially a problem. The full test uses 5 lags which I think translates in python convention to an AR(6)\n",
    "- so not definitive but it seems reasonable that the data is close but not exactly stationary"
   ]
  },
  {
   "cell_type": "markdown",
   "metadata": {},
   "source": [
    "### Fitting an AR model"
   ]
  },
  {
   "cell_type": "code",
   "execution_count": 44,
   "metadata": {},
   "outputs": [],
   "source": [
    "ddata_cons = STATS.Demean(data_cons)\n",
    "# we don't actually have to demean since the code can do it but it seemed easier to visualize\n",
    "ar_model_opt = STATS.AR_model(ddata_cons,)\n",
    "ar_fit = ar_model_opt.fit(ic='aic',trend='c',maxlag=None)\n",
    "ar_weirdfit = ar_model_opt.fit()\n",
    "# ar_model_1 = STATS.AR_model(ddata_cons)\n",
    "# ar_fit_1 = ar_model_1.fit(maxlag=1)\n",
    "\n",
    "# ar_model_2 = STATS.AR_model(ddata_cons)\n",
    "# ar_fit_2 = ar_model_2.fit(maxlag=2)\n",
    "\n",
    "# ar_model_3 = STATS.AR_model(ddata_cons)\n",
    "# ar_fit_3 = ar_model_3.fit(maxlag=3)"
   ]
  },
  {
   "cell_type": "code",
   "execution_count": 46,
   "metadata": {},
   "outputs": [
    {
     "data": {
      "text/plain": [
       "6"
      ]
     },
     "execution_count": 46,
     "metadata": {},
     "output_type": "execute_result"
    }
   ],
   "source": [
    "kwargs ={}\n",
    "def_args = {}\n",
    "def_args['dates'] = kwargs.get('dates',None)\n",
    "def_args['freq'] = kwargs.get('freq',None)\n",
    "def_args['missing'] = kwargs.get('missing',None)\n",
    "ar_opt = tsa.ar_model.AR(ddata_cons.values.reshape(-1,),**def_args)\n",
    "ar_opt = model.fit(ic='aic',trend='nc',maxlag=None)\n",
    "ar_opt.k_ar"
   ]
  },
  {
   "cell_type": "markdown",
   "metadata": {},
   "source": [
    "###### An AR model seems to fit pretty well. The optimal fit found by minimizing the AIC appears to choose up to 6 lags. But even 1 lag seems to get pretty close."
   ]
  },
  {
   "cell_type": "markdown",
   "metadata": {},
   "source": [
    "### Fitting ARMA model"
   ]
  },
  {
   "cell_type": "code",
   "execution_count": 49,
   "metadata": {},
   "outputs": [
    {
     "name": "stdout",
     "output_type": "stream",
     "text": [
      "failed on:arma(0,0)\n",
      "failed on:arma(0,3)\n",
      "failed on:arma(0,8)\n",
      "failed on:arma(0,9)\n",
      "failed on:arma(4,3)\n",
      "failed on:arma(8,7)\n",
      "failed on:arma(9,5)\n",
      "failed on:arma(9,6)\n"
     ]
    }
   ],
   "source": [
    "# this gets all the arma models\n",
    "# we then have to fit each one and get the AIC\n",
    "all_arma = STATS.ARMA_model(ddata_cons,maxp=10,maxq=10)\n",
    "\n",
    "arma_fits = {}\n",
    "for model in all_arma:\n",
    "    try:\n",
    "        m_fit = all_arma[model].fit(trend='nc')\n",
    "        arma_fits[model]=m_fit\n",
    "    except:\n",
    "        print('failed on:{0}'.format(model))\n",
    "        pass\n",
    "        "
   ]
  },
  {
   "cell_type": "code",
   "execution_count": 53,
   "metadata": {},
   "outputs": [
    {
     "name": "stdout",
     "output_type": "stream",
     "text": [
      "arma(0,1)      3481.744455\n",
      "arma(0,2)      3201.349937\n",
      "arma(0,4)      2986.613207\n",
      "arma(0,5)      2944.732386\n",
      "arma(0,6)      2909.653968\n",
      "arma(0,7)      2887.646153\n",
      "arma(0,10)     2847.552150\n",
      "arma(1,0)      2775.526160\n",
      "arma(1,1)      2777.249072\n",
      "arma(1,2)      2774.706077\n",
      "arma(1,3)      2773.840059\n",
      "arma(1,4)      2775.650327\n",
      "arma(1,5)      2774.399007\n",
      "arma(1,6)      2775.217452\n",
      "arma(1,7)      2777.150079\n",
      "arma(1,8)      2778.104254\n",
      "arma(1,9)      2777.693812\n",
      "arma(1,10)     2778.864011\n",
      "arma(2,0)      2777.300371\n",
      "arma(2,1)      2779.520978\n",
      "arma(2,2)      2773.364841\n",
      "arma(2,3)      2774.353658\n",
      "arma(2,4)      2775.704835\n",
      "arma(2,5)      2775.445201\n",
      "arma(2,6)      2775.907833\n",
      "arma(2,7)      2779.201292\n",
      "arma(2,8)      2779.068973\n",
      "arma(2,9)      2779.233875\n",
      "arma(2,10)     2780.862144\n",
      "arma(3,0)      2775.466220\n",
      "                  ...     \n",
      "arma(8,0)      2776.399039\n",
      "arma(8,1)      2778.122499\n",
      "arma(8,2)      2768.682527\n",
      "arma(8,3)      2770.416014\n",
      "arma(8,4)      2782.699835\n",
      "arma(8,5)      2781.792387\n",
      "arma(8,6)      2783.855053\n",
      "arma(8,8)      2787.049611\n",
      "arma(8,9)      2782.366594\n",
      "arma(8,10)     2781.737940\n",
      "arma(9,0)      2777.399081\n",
      "arma(9,1)      2778.439641\n",
      "arma(9,2)      2770.501145\n",
      "arma(9,3)      2771.920750\n",
      "arma(9,4)      2785.225931\n",
      "arma(9,7)      2778.946833\n",
      "arma(9,8)      2784.779575\n",
      "arma(9,9)      2781.040206\n",
      "arma(9,10)     2783.040410\n",
      "arma(10,0)     2777.880171\n",
      "arma(10,1)     2779.453821\n",
      "arma(10,2)     2772.958713\n",
      "arma(10,3)     2770.592756\n",
      "arma(10,4)     2772.197750\n",
      "arma(10,5)     2773.912462\n",
      "arma(10,6)     2775.927138\n",
      "arma(10,7)     2782.056899\n",
      "arma(10,8)     2772.432348\n",
      "arma(10,9)     2780.422788\n",
      "arma(10,10)    2775.520761\n",
      "Length: 113, dtype: float64\n"
     ]
    }
   ],
   "source": [
    "arma_aic= pd.Series({x: arma_fits[x].aic for x in arma_fits})\n",
    "print(arma_aic)"
   ]
  },
  {
   "cell_type": "code",
   "execution_count": 57,
   "metadata": {},
   "outputs": [
    {
     "data": {
      "text/plain": [
       "<statsmodels.tsa.arima_model.ARMAResultsWrapper at 0x182db6eedd8>"
      ]
     },
     "execution_count": 57,
     "metadata": {},
     "output_type": "execute_result"
    }
   ],
   "source": [
    "arma_opt=arma_fits[arma_aic[arma_aic==arma_aic.min()].index[0]]"
   ]
  },
  {
   "cell_type": "code",
   "execution_count": 58,
   "metadata": {},
   "outputs": [
    {
     "name": "stdout",
     "output_type": "stream",
     "text": [
      "ARMA(5,4)\n"
     ]
    },
    {
     "data": {
      "text/plain": [
       "<matplotlib.axes._subplots.AxesSubplot at 0x1825ddb62b0>"
      ]
     },
     "execution_count": 58,
     "metadata": {},
     "output_type": "execute_result"
    },
    {
     "data": {
      "image/png": "[encoded data removed]",
      "text/plain": [
       "<Figure size 432x288 with 1 Axes>"
      ]
     },
     "metadata": {
      "needs_background": "light"
     },
     "output_type": "display_data"
    }
   ],
   "source": [
    "print('ARMA({0},{1})'.format(arma_opt.k_ar,arma_opt.k_ma))\n",
    "plot_data = pd.DataFrame({'obs': ddata_cons, 'fit':arma_opt.fittedvalues})\n",
    "plot_data.plot()"
   ]
  },
  {
   "cell_type": "markdown",
   "metadata": {},
   "source": [
    "Notes: An ARMA(5,4) seems to be the optimal fit but it's likely a pretty flat surface. "
   ]
  },
  {
   "cell_type": "markdown",
   "metadata": {},
   "source": [
    "### Fitting ARIMA model"
   ]
  },
  {
   "cell_type": "code",
   "execution_count": 59,
   "metadata": {},
   "outputs": [
    {
     "name": "stdout",
     "output_type": "stream",
     "text": [
      "failed on:arima(0,0,0)\n",
      "failed on:arima(0,0,3)\n",
      "failed on:arima(0,0,8)\n",
      "failed on:arima(0,0,9)\n",
      "failed on:arima(0,1,0)\n",
      "failed on:arima(0,2,0)\n",
      "failed on:arima(0,2,3)\n",
      "failed on:arima(0,2,4)\n",
      "failed on:arima(0,2,5)\n",
      "failed on:arima(0,2,6)\n",
      "failed on:arima(0,2,7)\n",
      "failed on:arima(0,2,8)\n",
      "failed on:arima(0,2,9)\n",
      "failed on:arima(0,2,10)\n",
      "failed on:arima(1,1,1)\n",
      "failed on:arima(1,1,2)\n",
      "failed on:arima(1,1,3)\n",
      "failed on:arima(1,1,4)\n",
      "failed on:arima(1,1,5)\n",
      "failed on:arima(1,1,6)\n",
      "failed on:arima(1,1,7)\n",
      "failed on:arima(1,1,8)\n",
      "failed on:arima(1,1,9)\n",
      "failed on:arima(1,1,10)\n",
      "failed on:arima(1,2,2)\n",
      "failed on:arima(1,2,3)\n",
      "failed on:arima(1,2,4)\n",
      "failed on:arima(1,2,5)\n",
      "failed on:arima(1,2,6)\n",
      "failed on:arima(1,2,7)\n",
      "failed on:arima(1,2,8)\n",
      "failed on:arima(1,2,9)\n",
      "failed on:arima(1,2,10)\n",
      "failed on:arima(2,1,2)\n",
      "failed on:arima(2,1,3)\n",
      "failed on:arima(2,1,4)\n",
      "failed on:arima(2,1,5)\n",
      "failed on:arima(2,1,6)\n",
      "failed on:arima(2,1,7)\n",
      "failed on:arima(2,1,8)\n",
      "failed on:arima(2,1,9)\n",
      "failed on:arima(2,1,10)\n",
      "failed on:arima(2,2,2)\n",
      "failed on:arima(2,2,3)\n",
      "failed on:arima(2,2,4)\n",
      "failed on:arima(2,2,5)\n",
      "failed on:arima(2,2,7)\n",
      "failed on:arima(2,2,10)\n",
      "failed on:arima(3,1,3)\n",
      "failed on:arima(3,1,4)\n",
      "failed on:arima(3,1,5)\n",
      "failed on:arima(3,1,6)\n",
      "failed on:arima(3,1,7)\n",
      "failed on:arima(3,1,8)\n",
      "failed on:arima(3,1,9)\n",
      "failed on:arima(3,1,10)\n",
      "failed on:arima(3,2,3)\n",
      "failed on:arima(3,2,4)\n",
      "failed on:arima(3,2,5)\n",
      "failed on:arima(3,2,10)\n",
      "failed on:arima(4,0,3)\n",
      "failed on:arima(4,1,4)\n",
      "failed on:arima(4,1,5)\n",
      "failed on:arima(4,1,6)\n",
      "failed on:arima(4,1,7)\n",
      "failed on:arima(4,1,8)\n",
      "failed on:arima(4,1,9)\n",
      "failed on:arima(4,1,10)\n",
      "failed on:arima(4,2,3)\n",
      "failed on:arima(4,2,4)\n",
      "failed on:arima(4,2,5)\n",
      "failed on:arima(4,2,10)\n",
      "failed on:arima(5,1,6)\n",
      "failed on:arima(5,1,7)\n",
      "failed on:arima(5,1,8)\n",
      "failed on:arima(5,1,9)\n",
      "failed on:arima(5,1,10)\n",
      "failed on:arima(5,2,6)\n",
      "failed on:arima(5,2,7)\n",
      "failed on:arima(5,2,10)\n",
      "failed on:arima(6,1,6)\n",
      "failed on:arima(6,1,7)\n",
      "failed on:arima(6,1,8)\n",
      "failed on:arima(6,1,9)\n",
      "failed on:arima(6,1,10)\n",
      "failed on:arima(6,2,5)\n",
      "failed on:arima(6,2,6)\n",
      "failed on:arima(6,2,7)\n",
      "failed on:arima(7,1,8)\n",
      "failed on:arima(7,1,9)\n",
      "failed on:arima(7,1,10)\n",
      "failed on:arima(7,2,4)\n",
      "failed on:arima(7,2,5)\n",
      "failed on:arima(7,2,8)\n",
      "failed on:arima(7,2,10)\n",
      "failed on:arima(8,0,7)\n",
      "failed on:arima(8,1,8)\n",
      "failed on:arima(8,1,9)\n",
      "failed on:arima(8,1,10)\n",
      "failed on:arima(8,2,5)\n",
      "failed on:arima(8,2,10)\n",
      "failed on:arima(9,0,5)\n",
      "failed on:arima(9,0,6)\n",
      "failed on:arima(9,1,9)\n",
      "failed on:arima(9,1,10)\n",
      "failed on:arima(9,2,5)\n",
      "failed on:arima(9,2,8)\n",
      "failed on:arima(9,2,9)\n",
      "failed on:arima(9,2,10)\n",
      "failed on:arima(10,2,6)\n",
      "failed on:arima(10,2,7)\n",
      "failed on:arima(10,2,8)\n",
      "failed on:arima(10,2,9)\n",
      "failed on:arima(10,2,10)\n"
     ]
    }
   ],
   "source": [
    "# this gets all the arima models\n",
    "# we then have to fit each one and get the AIC\n",
    "all_arima = STATS.ARIMA_model(ddata_cons,maxp=10,maxq=10,maxd=2)\n",
    "arima_fit = {}\n",
    "for model in all_arima:\n",
    "    try:\n",
    "        m_fit = all_arima[model].fit(trend='nc')\n",
    "        arima_fit[model]=m_fit\n",
    "    except:\n",
    "        print('failed on:{0}'.format(model))\n",
    "        pass\n",
    "\n"
   ]
  },
  {
   "cell_type": "code",
   "execution_count": 61,
   "metadata": {},
   "outputs": [
    {
     "name": "stdout",
     "output_type": "stream",
     "text": [
      "arima(0,0,1)      3481.744455\n",
      "arima(0,0,2)      3201.349937\n",
      "arima(0,0,4)      2986.613207\n",
      "arima(0,0,5)      2944.732386\n",
      "arima(0,0,6)      2909.653968\n",
      "arima(0,0,7)      2887.646153\n",
      "arima(0,0,10)     2847.552150\n",
      "arima(0,1,1)      2779.151919\n",
      "arima(0,1,2)      2773.649833\n",
      "arima(0,1,3)      2771.104371\n",
      "arima(0,1,4)      2772.583783\n",
      "arima(0,1,5)      2770.523347\n",
      "arima(0,1,6)      2771.749418\n",
      "arima(0,1,7)      2773.749368\n",
      "arima(0,1,8)      2775.200820\n",
      "arima(0,1,9)      2775.745816\n",
      "arima(0,1,10)     2776.081263\n",
      "arima(0,2,1)      2782.054634\n",
      "arima(0,2,2)      2782.916519\n",
      "arima(1,0,0)      2775.526160\n",
      "arima(1,0,1)      2777.249072\n",
      "arima(1,0,2)      2774.706077\n",
      "arima(1,0,3)      2773.840059\n",
      "arima(1,0,4)      2775.650327\n",
      "arima(1,0,5)      2774.399007\n",
      "arima(1,0,6)      2775.217452\n",
      "arima(1,0,7)      2777.150079\n",
      "arima(1,0,8)      2778.104254\n",
      "arima(1,0,9)      2777.693812\n",
      "arima(1,0,10)     2778.864011\n",
      "                     ...     \n",
      "arima(9,2,6)      2792.809263\n",
      "arima(9,2,7)      2794.519810\n",
      "arima(10,0,0)     2777.880171\n",
      "arima(10,0,1)     2779.453821\n",
      "arima(10,0,2)     2772.958713\n",
      "arima(10,0,3)     2770.592756\n",
      "arima(10,0,4)     2772.197750\n",
      "arima(10,0,5)     2773.912462\n",
      "arima(10,0,6)     2775.927138\n",
      "arima(10,0,7)     2782.056899\n",
      "arima(10,0,8)     2772.432348\n",
      "arima(10,0,9)     2780.422788\n",
      "arima(10,0,10)    2775.520761\n",
      "arima(10,1,0)     2775.870590\n",
      "arima(10,1,1)     2775.056611\n",
      "arima(10,1,2)     2770.560819\n",
      "arima(10,1,3)     2780.098617\n",
      "arima(10,1,4)     2783.334655\n",
      "arima(10,1,5)     2786.786597\n",
      "arima(10,1,6)     2788.279981\n",
      "arima(10,1,7)     2788.092597\n",
      "arima(10,1,8)     2777.781891\n",
      "arima(10,1,9)     2776.590350\n",
      "arima(10,1,10)    2773.388518\n",
      "arima(10,2,0)     2826.358149\n",
      "arima(10,2,1)     2780.329944\n",
      "arima(10,2,2)     2782.256203\n",
      "arima(10,2,3)     2775.741007\n",
      "arima(10,2,4)     2776.012605\n",
      "arima(10,2,5)     2778.731706\n",
      "Length: 249, dtype: float64\n",
      "ARIMA(7,1,2)\n"
     ]
    }
   ],
   "source": [
    "arima_aic= pd.Series({x: arima_fit[x].aic for x in arima_fit})\n",
    "arima_opt= arima_fit[arima_aic[arima_aic==arima_aic.min()].index[0]]\n",
    "\n",
    "print(arima_aic)\n",
    "print('ARIMA({0},{1},{2})'.format(arima_opt.k_ar,arima_opt.k_diff,arima_opt.k_ma,))\n"
   ]
  },
  {
   "cell_type": "code",
   "execution_count": 62,
   "metadata": {},
   "outputs": [
    {
     "data": {
      "text/plain": [
       "<matplotlib.axes._subplots.AxesSubplot at 0x1825e030e48>"
      ]
     },
     "execution_count": 62,
     "metadata": {},
     "output_type": "execute_result"
    },
    {
     "data": {
      "image/png": "[encoded data removed]",
      "text/plain": [
       "<Figure size 432x288 with 1 Axes>"
      ]
     },
     "metadata": {
      "needs_background": "light"
     },
     "output_type": "display_data"
    }
   ],
   "source": [
    "plot_data = pd.DataFrame({'obs': ddata_cons, 'fit':arima_opt.fittedvalues})\n",
    "# the plot is definitely wrong\n",
    "# I don't think the fittedvalues attribute for ARIMA models is correct\n",
    "# no documentation on it\n",
    "\n",
    "plot_data.plot()"
   ]
  },
  {
   "cell_type": "code",
   "execution_count": 63,
   "metadata": {},
   "outputs": [
    {
     "data": {
      "image/png": "[encoded data removed]",
      "text/plain": [
       "<Figure size 432x288 with 1 Axes>"
      ]
     },
     "execution_count": 63,
     "metadata": {},
     "output_type": "execute_result"
    },
    {
     "data": {
      "image/png": "[encoded data removed]",
      "text/plain": [
       "<Figure size 432x288 with 1 Axes>"
      ]
     },
     "metadata": {
      "needs_background": "light"
     },
     "output_type": "display_data"
    }
   ],
   "source": [
    "arima_opt.plot_predict()"
   ]
  },
  {
   "cell_type": "markdown",
   "metadata": {},
   "source": [
    "Notes: ok.. so for ARIMA models (and probably SARIMA which I won't do yet) we want to use the built in plot-predict function.\n",
    "We should compare the three model types by mean-square error. It all looks really close so I doubt we'll have a clear winner."
   ]
  },
  {
   "cell_type": "markdown",
   "metadata": {},
   "source": [
    "### Fitting Sarima model"
   ]
  },
  {
   "cell_type": "code",
   "execution_count": 20,
   "metadata": {},
   "outputs": [],
   "source": [
    "all_sarima = STATS.SARIMA_model(ddata_cons,maxp=3,maxq=3,maxd=2,maxP=3,maxD=1,maxQ=1,maxs=[3,6,9,12],)"
   ]
  },
  {
   "cell_type": "code",
   "execution_count": 22,
   "metadata": {},
   "outputs": [
    {
     "name": "stdout",
     "output_type": "stream",
     "text": [
      "failed on:sarima((0, 1, 1)X(3, 1, 1, 12))\n",
      "failed on:sarima((0, 2, 3)X(0, 0, 0, 3))\n",
      "failed on:sarima((0, 2, 3)X(0, 0, 0, 6))\n",
      "failed on:sarima((0, 2, 3)X(0, 0, 0, 9))\n",
      "failed on:sarima((0, 2, 3)X(0, 0, 0, 12))\n",
      "failed on:sarima((0, 2, 3)X(0, 0, 1, 3))\n",
      "failed on:sarima((0, 2, 3)X(0, 0, 1, 6))\n",
      "failed on:sarima((0, 2, 3)X(0, 0, 1, 9))\n",
      "failed on:sarima((0, 2, 3)X(0, 0, 1, 12))\n",
      "failed on:sarima((0, 2, 3)X(0, 1, 0, 3))\n",
      "failed on:sarima((0, 2, 3)X(0, 1, 0, 12))\n",
      "failed on:sarima((0, 2, 3)X(0, 1, 1, 3))\n",
      "failed on:sarima((0, 2, 3)X(0, 1, 1, 12))\n",
      "failed on:sarima((0, 2, 3)X(1, 0, 0, 3))\n",
      "failed on:sarima((0, 2, 3)X(1, 0, 0, 6))\n",
      "failed on:sarima((0, 2, 3)X(1, 0, 0, 9))\n",
      "failed on:sarima((0, 2, 3)X(1, 0, 0, 12))\n",
      "failed on:sarima((0, 2, 3)X(1, 0, 1, 3))\n",
      "failed on:sarima((0, 2, 3)X(1, 0, 1, 6))\n",
      "failed on:sarima((0, 2, 3)X(1, 0, 1, 9))\n",
      "failed on:sarima((0, 2, 3)X(1, 0, 1, 12))\n",
      "failed on:sarima((0, 2, 3)X(1, 1, 0, 3))\n",
      "failed on:sarima((0, 2, 3)X(1, 1, 0, 12))\n",
      "failed on:sarima((0, 2, 3)X(1, 1, 1, 3))\n",
      "failed on:sarima((0, 2, 3)X(1, 1, 1, 12))\n",
      "failed on:sarima((0, 2, 3)X(2, 0, 0, 3))\n",
      "failed on:sarima((0, 2, 3)X(2, 0, 0, 6))\n",
      "failed on:sarima((0, 2, 3)X(2, 0, 0, 9))\n",
      "failed on:sarima((0, 2, 3)X(2, 0, 0, 12))\n",
      "failed on:sarima((0, 2, 3)X(2, 0, 1, 3))\n",
      "failed on:sarima((0, 2, 3)X(2, 0, 1, 6))\n",
      "failed on:sarima((0, 2, 3)X(2, 0, 1, 9))\n",
      "failed on:sarima((0, 2, 3)X(2, 0, 1, 12))\n",
      "failed on:sarima((0, 2, 3)X(2, 1, 0, 3))\n",
      "failed on:sarima((0, 2, 3)X(2, 1, 0, 12))\n",
      "failed on:sarima((0, 2, 3)X(2, 1, 1, 3))\n",
      "failed on:sarima((0, 2, 3)X(2, 1, 1, 12))\n",
      "failed on:sarima((0, 2, 3)X(3, 0, 0, 3))\n",
      "failed on:sarima((0, 2, 3)X(3, 0, 0, 6))\n",
      "failed on:sarima((0, 2, 3)X(3, 0, 0, 9))\n",
      "failed on:sarima((0, 2, 3)X(3, 0, 0, 12))\n",
      "failed on:sarima((0, 2, 3)X(3, 0, 1, 3))\n",
      "failed on:sarima((0, 2, 3)X(3, 0, 1, 6))\n",
      "failed on:sarima((0, 2, 3)X(3, 0, 1, 9))\n",
      "failed on:sarima((0, 2, 3)X(3, 0, 1, 12))\n",
      "failed on:sarima((0, 2, 3)X(3, 1, 0, 3))\n",
      "failed on:sarima((0, 2, 3)X(3, 1, 0, 12))\n",
      "failed on:sarima((0, 2, 3)X(3, 1, 1, 3))\n",
      "failed on:sarima((0, 2, 3)X(3, 1, 1, 12))\n",
      "failed on:sarima((1, 1, 1)X(0, 1, 0, 3))\n",
      "failed on:sarima((1, 1, 1)X(0, 1, 0, 9))\n",
      "failed on:sarima((1, 1, 1)X(0, 1, 1, 3))\n",
      "failed on:sarima((1, 1, 1)X(0, 1, 1, 9))\n",
      "failed on:sarima((1, 1, 1)X(1, 1, 0, 3))\n",
      "failed on:sarima((1, 1, 1)X(1, 1, 0, 9))\n",
      "failed on:sarima((1, 1, 1)X(1, 1, 1, 3))\n",
      "failed on:sarima((1, 1, 1)X(1, 1, 1, 9))\n",
      "failed on:sarima((1, 1, 1)X(2, 1, 0, 3))\n",
      "failed on:sarima((1, 1, 1)X(2, 1, 0, 9))\n",
      "failed on:sarima((1, 1, 1)X(2, 1, 1, 3))\n",
      "failed on:sarima((1, 1, 1)X(2, 1, 1, 9))\n",
      "failed on:sarima((1, 1, 1)X(3, 1, 0, 3))\n",
      "failed on:sarima((1, 1, 1)X(3, 1, 0, 9))\n",
      "failed on:sarima((1, 1, 1)X(3, 1, 1, 3))\n",
      "failed on:sarima((1, 1, 1)X(3, 1, 1, 9))\n",
      "failed on:sarima((1, 1, 2)X(0, 1, 0, 12))\n",
      "failed on:sarima((1, 1, 2)X(0, 1, 1, 12))\n",
      "failed on:sarima((1, 1, 2)X(1, 1, 0, 12))\n",
      "failed on:sarima((1, 1, 2)X(1, 1, 1, 12))\n",
      "failed on:sarima((1, 1, 2)X(2, 1, 0, 12))\n",
      "failed on:sarima((1, 1, 2)X(2, 1, 1, 12))\n",
      "failed on:sarima((1, 1, 2)X(3, 1, 0, 12))\n",
      "failed on:sarima((1, 1, 2)X(3, 1, 1, 12))\n",
      "failed on:sarima((1, 2, 2)X(0, 1, 0, 9))\n",
      "failed on:sarima((1, 2, 2)X(0, 1, 0, 12))\n",
      "failed on:sarima((1, 2, 2)X(0, 1, 1, 9))\n",
      "failed on:sarima((1, 2, 2)X(0, 1, 1, 12))\n",
      "failed on:sarima((1, 2, 2)X(1, 1, 0, 9))\n",
      "failed on:sarima((1, 2, 2)X(1, 1, 0, 12))\n",
      "failed on:sarima((1, 2, 2)X(1, 1, 1, 9))\n",
      "failed on:sarima((1, 2, 2)X(1, 1, 1, 12))\n",
      "failed on:sarima((1, 2, 2)X(2, 1, 0, 9))\n",
      "failed on:sarima((1, 2, 2)X(2, 1, 0, 12))\n",
      "failed on:sarima((1, 2, 2)X(2, 1, 1, 9))\n",
      "failed on:sarima((1, 2, 2)X(2, 1, 1, 12))\n",
      "failed on:sarima((1, 2, 2)X(3, 1, 0, 9))\n",
      "failed on:sarima((1, 2, 2)X(3, 1, 0, 12))\n",
      "failed on:sarima((1, 2, 2)X(3, 1, 1, 9))\n",
      "failed on:sarima((1, 2, 2)X(3, 1, 1, 12))\n",
      "failed on:sarima((1, 2, 3)X(0, 0, 0, 3))\n",
      "failed on:sarima((1, 2, 3)X(0, 0, 0, 6))\n",
      "failed on:sarima((1, 2, 3)X(0, 0, 0, 9))\n",
      "failed on:sarima((1, 2, 3)X(0, 0, 0, 12))\n",
      "failed on:sarima((1, 2, 3)X(0, 0, 1, 3))\n",
      "failed on:sarima((1, 2, 3)X(0, 0, 1, 6))\n",
      "failed on:sarima((1, 2, 3)X(0, 0, 1, 9))\n",
      "failed on:sarima((1, 2, 3)X(0, 0, 1, 12))\n",
      "failed on:sarima((1, 2, 3)X(0, 1, 0, 3))\n",
      "failed on:sarima((1, 2, 3)X(0, 1, 0, 12))\n",
      "failed on:sarima((1, 2, 3)X(0, 1, 1, 3))\n",
      "failed on:sarima((1, 2, 3)X(0, 1, 1, 12))\n",
      "failed on:sarima((1, 2, 3)X(1, 0, 0, 3))\n",
      "failed on:sarima((1, 2, 3)X(1, 0, 0, 6))\n",
      "failed on:sarima((1, 2, 3)X(1, 0, 0, 9))\n",
      "failed on:sarima((1, 2, 3)X(1, 0, 0, 12))\n",
      "failed on:sarima((1, 2, 3)X(1, 0, 1, 3))\n",
      "failed on:sarima((1, 2, 3)X(1, 0, 1, 6))\n",
      "failed on:sarima((1, 2, 3)X(1, 0, 1, 9))\n",
      "failed on:sarima((1, 2, 3)X(1, 0, 1, 12))\n",
      "failed on:sarima((1, 2, 3)X(1, 1, 0, 3))\n",
      "failed on:sarima((1, 2, 3)X(1, 1, 0, 12))\n",
      "failed on:sarima((1, 2, 3)X(1, 1, 1, 3))\n",
      "failed on:sarima((1, 2, 3)X(1, 1, 1, 12))\n",
      "failed on:sarima((1, 2, 3)X(2, 0, 0, 3))\n",
      "failed on:sarima((1, 2, 3)X(2, 0, 0, 6))\n",
      "failed on:sarima((1, 2, 3)X(2, 0, 0, 9))\n",
      "failed on:sarima((1, 2, 3)X(2, 0, 0, 12))\n",
      "failed on:sarima((1, 2, 3)X(2, 0, 1, 3))\n",
      "failed on:sarima((1, 2, 3)X(2, 0, 1, 6))\n",
      "failed on:sarima((1, 2, 3)X(2, 0, 1, 9))\n",
      "failed on:sarima((1, 2, 3)X(2, 0, 1, 12))\n",
      "failed on:sarima((1, 2, 3)X(2, 1, 0, 3))\n",
      "failed on:sarima((1, 2, 3)X(2, 1, 0, 12))\n",
      "failed on:sarima((1, 2, 3)X(2, 1, 1, 3))\n",
      "failed on:sarima((1, 2, 3)X(2, 1, 1, 12))\n",
      "failed on:sarima((1, 2, 3)X(3, 0, 0, 3))\n",
      "failed on:sarima((1, 2, 3)X(3, 0, 0, 6))\n",
      "failed on:sarima((1, 2, 3)X(3, 0, 0, 9))\n",
      "failed on:sarima((1, 2, 3)X(3, 0, 0, 12))\n",
      "failed on:sarima((1, 2, 3)X(3, 0, 1, 3))\n",
      "failed on:sarima((1, 2, 3)X(3, 0, 1, 6))\n",
      "failed on:sarima((1, 2, 3)X(3, 0, 1, 9))\n",
      "failed on:sarima((1, 2, 3)X(3, 0, 1, 12))\n",
      "failed on:sarima((1, 2, 3)X(3, 1, 0, 3))\n",
      "failed on:sarima((1, 2, 3)X(3, 1, 0, 12))\n",
      "failed on:sarima((1, 2, 3)X(3, 1, 1, 3))\n",
      "failed on:sarima((1, 2, 3)X(3, 1, 1, 12))\n",
      "failed on:sarima((2, 0, 1)X(0, 0, 0, 3))\n",
      "failed on:sarima((2, 0, 1)X(0, 0, 0, 6))\n",
      "failed on:sarima((2, 0, 1)X(0, 0, 0, 9))\n",
      "failed on:sarima((2, 0, 1)X(0, 0, 0, 12))\n",
      "failed on:sarima((2, 0, 1)X(0, 0, 1, 3))\n",
      "failed on:sarima((2, 0, 1)X(0, 0, 1, 6))\n",
      "failed on:sarima((2, 0, 1)X(0, 0, 1, 9))\n",
      "failed on:sarima((2, 0, 1)X(0, 0, 1, 12))\n",
      "failed on:sarima((2, 0, 1)X(0, 1, 0, 3))\n",
      "failed on:sarima((2, 0, 1)X(0, 1, 1, 3))\n",
      "failed on:sarima((2, 0, 1)X(1, 0, 0, 3))\n",
      "failed on:sarima((2, 0, 1)X(1, 0, 0, 6))\n",
      "failed on:sarima((2, 0, 1)X(1, 0, 0, 9))\n",
      "failed on:sarima((2, 0, 1)X(1, 0, 0, 12))\n",
      "failed on:sarima((2, 0, 1)X(1, 0, 1, 3))\n",
      "failed on:sarima((2, 0, 1)X(1, 0, 1, 6))\n",
      "failed on:sarima((2, 0, 1)X(1, 0, 1, 9))\n",
      "failed on:sarima((2, 0, 1)X(1, 0, 1, 12))\n",
      "failed on:sarima((2, 0, 1)X(1, 1, 0, 3))\n",
      "failed on:sarima((2, 0, 1)X(1, 1, 1, 3))\n",
      "failed on:sarima((2, 0, 1)X(2, 0, 0, 3))\n",
      "failed on:sarima((2, 0, 1)X(2, 0, 0, 6))\n",
      "failed on:sarima((2, 0, 1)X(2, 0, 0, 9))\n",
      "failed on:sarima((2, 0, 1)X(2, 0, 0, 12))\n",
      "failed on:sarima((2, 0, 1)X(2, 0, 1, 3))\n",
      "failed on:sarima((2, 0, 1)X(2, 0, 1, 6))\n",
      "failed on:sarima((2, 0, 1)X(2, 0, 1, 9))\n",
      "failed on:sarima((2, 0, 1)X(2, 0, 1, 12))\n",
      "failed on:sarima((2, 0, 1)X(2, 1, 0, 3))\n",
      "failed on:sarima((2, 0, 1)X(2, 1, 1, 3))\n",
      "failed on:sarima((2, 0, 1)X(3, 0, 0, 3))\n",
      "failed on:sarima((2, 0, 1)X(3, 0, 0, 6))\n",
      "failed on:sarima((2, 0, 1)X(3, 0, 0, 9))\n",
      "failed on:sarima((2, 0, 1)X(3, 0, 0, 12))\n",
      "failed on:sarima((2, 0, 1)X(3, 0, 1, 3))\n",
      "failed on:sarima((2, 0, 1)X(3, 0, 1, 6))\n",
      "failed on:sarima((2, 0, 1)X(3, 0, 1, 9))\n",
      "failed on:sarima((2, 0, 1)X(3, 0, 1, 12))\n",
      "failed on:sarima((2, 0, 1)X(3, 1, 0, 3))\n",
      "failed on:sarima((2, 0, 1)X(3, 1, 1, 3))\n",
      "failed on:sarima((2, 0, 2)X(0, 1, 0, 6))\n",
      "failed on:sarima((2, 0, 2)X(0, 1, 0, 9))\n",
      "failed on:sarima((2, 0, 2)X(0, 1, 0, 12))\n",
      "failed on:sarima((2, 0, 2)X(0, 1, 1, 6))\n",
      "failed on:sarima((2, 0, 2)X(0, 1, 1, 9))\n",
      "failed on:sarima((2, 0, 2)X(0, 1, 1, 12))\n",
      "failed on:sarima((2, 0, 2)X(1, 1, 0, 6))\n",
      "failed on:sarima((2, 0, 2)X(1, 1, 0, 9))\n",
      "failed on:sarima((2, 0, 2)X(1, 1, 0, 12))\n",
      "failed on:sarima((2, 0, 2)X(1, 1, 1, 6))\n",
      "failed on:sarima((2, 0, 2)X(1, 1, 1, 9))\n",
      "failed on:sarima((2, 0, 2)X(1, 1, 1, 12))\n",
      "failed on:sarima((2, 0, 2)X(2, 1, 0, 6))\n",
      "failed on:sarima((2, 0, 2)X(2, 1, 0, 9))\n",
      "failed on:sarima((2, 0, 2)X(2, 1, 0, 12))\n",
      "failed on:sarima((2, 0, 2)X(2, 1, 1, 6))\n",
      "failed on:sarima((2, 0, 2)X(2, 1, 1, 9))\n",
      "failed on:sarima((2, 0, 2)X(2, 1, 1, 12))\n",
      "failed on:sarima((2, 0, 2)X(3, 1, 0, 6))\n",
      "failed on:sarima((2, 0, 2)X(3, 1, 0, 9))\n",
      "failed on:sarima((2, 0, 2)X(3, 1, 0, 12))\n",
      "failed on:sarima((2, 0, 2)X(3, 1, 1, 6))\n",
      "failed on:sarima((2, 0, 2)X(3, 1, 1, 9))\n",
      "failed on:sarima((2, 0, 2)X(3, 1, 1, 12))\n"
     ]
    },
    {
     "name": "stdout",
     "output_type": "stream",
     "text": [
      "failed on:sarima((2, 1, 1)X(0, 1, 0, 3))\n",
      "failed on:sarima((2, 1, 1)X(0, 1, 0, 9))\n",
      "failed on:sarima((2, 1, 1)X(0, 1, 1, 3))\n",
      "failed on:sarima((2, 1, 1)X(0, 1, 1, 9))\n",
      "failed on:sarima((2, 1, 1)X(1, 1, 0, 3))\n",
      "failed on:sarima((2, 1, 1)X(1, 1, 0, 9))\n",
      "failed on:sarima((2, 1, 1)X(1, 1, 1, 3))\n",
      "failed on:sarima((2, 1, 1)X(1, 1, 1, 9))\n",
      "failed on:sarima((2, 1, 1)X(2, 1, 0, 3))\n",
      "failed on:sarima((2, 1, 1)X(2, 1, 0, 9))\n",
      "failed on:sarima((2, 1, 1)X(2, 1, 1, 3))\n",
      "failed on:sarima((2, 1, 1)X(2, 1, 1, 9))\n",
      "failed on:sarima((2, 1, 1)X(3, 1, 0, 3))\n",
      "failed on:sarima((2, 1, 1)X(3, 1, 0, 9))\n",
      "failed on:sarima((2, 1, 1)X(3, 1, 1, 3))\n",
      "failed on:sarima((2, 1, 1)X(3, 1, 1, 9))\n",
      "failed on:sarima((2, 1, 1)X(3, 1, 1, 12))\n",
      "failed on:sarima((2, 1, 2)X(0, 1, 0, 6))\n",
      "failed on:sarima((2, 1, 2)X(0, 1, 0, 12))\n",
      "failed on:sarima((2, 1, 2)X(0, 1, 1, 6))\n",
      "failed on:sarima((2, 1, 2)X(0, 1, 1, 12))\n",
      "failed on:sarima((2, 1, 2)X(1, 1, 0, 6))\n",
      "failed on:sarima((2, 1, 2)X(1, 1, 0, 12))\n",
      "failed on:sarima((2, 1, 2)X(1, 1, 1, 6))\n",
      "failed on:sarima((2, 1, 2)X(1, 1, 1, 12))\n",
      "failed on:sarima((2, 1, 2)X(2, 1, 0, 6))\n",
      "failed on:sarima((2, 1, 2)X(2, 1, 0, 12))\n",
      "failed on:sarima((2, 1, 2)X(2, 1, 1, 6))\n",
      "failed on:sarima((2, 1, 2)X(2, 1, 1, 12))\n",
      "failed on:sarima((2, 1, 2)X(3, 1, 0, 6))\n",
      "failed on:sarima((2, 1, 2)X(3, 1, 0, 12))\n",
      "failed on:sarima((2, 1, 2)X(3, 1, 1, 6))\n",
      "failed on:sarima((2, 1, 2)X(3, 1, 1, 12))\n",
      "failed on:sarima((2, 1, 3)X(0, 1, 0, 3))\n",
      "failed on:sarima((2, 1, 3)X(0, 1, 1, 3))\n",
      "failed on:sarima((2, 1, 3)X(1, 1, 0, 3))\n",
      "failed on:sarima((2, 1, 3)X(1, 1, 1, 3))\n",
      "failed on:sarima((2, 1, 3)X(2, 1, 0, 3))\n",
      "failed on:sarima((2, 1, 3)X(2, 1, 1, 3))\n",
      "failed on:sarima((2, 1, 3)X(3, 1, 0, 3))\n",
      "failed on:sarima((2, 1, 3)X(3, 1, 1, 3))\n",
      "failed on:sarima((2, 2, 1)X(0, 1, 0, 3))\n",
      "failed on:sarima((2, 2, 1)X(0, 1, 0, 9))\n",
      "failed on:sarima((2, 2, 1)X(0, 1, 1, 3))\n",
      "failed on:sarima((2, 2, 1)X(0, 1, 1, 9))\n",
      "failed on:sarima((2, 2, 1)X(1, 1, 0, 3))\n",
      "failed on:sarima((2, 2, 1)X(1, 1, 0, 9))\n",
      "failed on:sarima((2, 2, 1)X(1, 1, 1, 3))\n",
      "failed on:sarima((2, 2, 1)X(1, 1, 1, 9))\n",
      "failed on:sarima((2, 2, 1)X(2, 1, 0, 3))\n",
      "failed on:sarima((2, 2, 1)X(2, 1, 0, 9))\n",
      "failed on:sarima((2, 2, 1)X(2, 1, 1, 3))\n",
      "failed on:sarima((2, 2, 1)X(2, 1, 1, 9))\n",
      "failed on:sarima((2, 2, 1)X(3, 1, 0, 3))\n",
      "failed on:sarima((2, 2, 1)X(3, 1, 0, 9))\n",
      "failed on:sarima((2, 2, 1)X(3, 1, 1, 3))\n",
      "failed on:sarima((2, 2, 1)X(3, 1, 1, 9))\n",
      "failed on:sarima((2, 2, 2)X(0, 0, 0, 3))\n",
      "failed on:sarima((2, 2, 2)X(0, 0, 0, 6))\n",
      "failed on:sarima((2, 2, 2)X(0, 0, 0, 9))\n",
      "failed on:sarima((2, 2, 2)X(0, 0, 0, 12))\n",
      "failed on:sarima((2, 2, 2)X(0, 0, 1, 3))\n",
      "failed on:sarima((2, 2, 2)X(0, 0, 1, 6))\n",
      "failed on:sarima((2, 2, 2)X(0, 0, 1, 9))\n",
      "failed on:sarima((2, 2, 2)X(0, 0, 1, 12))\n",
      "failed on:sarima((2, 2, 2)X(0, 1, 0, 9))\n",
      "failed on:sarima((2, 2, 2)X(0, 1, 0, 12))\n",
      "failed on:sarima((2, 2, 2)X(0, 1, 1, 9))\n",
      "failed on:sarima((2, 2, 2)X(0, 1, 1, 12))\n",
      "failed on:sarima((2, 2, 2)X(1, 0, 0, 3))\n",
      "failed on:sarima((2, 2, 2)X(1, 0, 0, 6))\n",
      "failed on:sarima((2, 2, 2)X(1, 0, 0, 9))\n",
      "failed on:sarima((2, 2, 2)X(1, 0, 0, 12))\n",
      "failed on:sarima((2, 2, 2)X(1, 0, 1, 3))\n",
      "failed on:sarima((2, 2, 2)X(1, 0, 1, 6))\n",
      "failed on:sarima((2, 2, 2)X(1, 0, 1, 9))\n",
      "failed on:sarima((2, 2, 2)X(1, 0, 1, 12))\n",
      "failed on:sarima((2, 2, 2)X(1, 1, 0, 9))\n",
      "failed on:sarima((2, 2, 2)X(1, 1, 0, 12))\n",
      "failed on:sarima((2, 2, 2)X(1, 1, 1, 9))\n",
      "failed on:sarima((2, 2, 2)X(1, 1, 1, 12))\n",
      "failed on:sarima((2, 2, 2)X(2, 0, 0, 3))\n",
      "failed on:sarima((2, 2, 2)X(2, 0, 0, 6))\n",
      "failed on:sarima((2, 2, 2)X(2, 0, 0, 9))\n",
      "failed on:sarima((2, 2, 2)X(2, 0, 0, 12))\n",
      "failed on:sarima((2, 2, 2)X(2, 0, 1, 3))\n",
      "failed on:sarima((2, 2, 2)X(2, 0, 1, 6))\n",
      "failed on:sarima((2, 2, 2)X(2, 0, 1, 9))\n",
      "failed on:sarima((2, 2, 2)X(2, 0, 1, 12))\n",
      "failed on:sarima((2, 2, 2)X(2, 1, 0, 9))\n",
      "failed on:sarima((2, 2, 2)X(2, 1, 0, 12))\n",
      "failed on:sarima((2, 2, 2)X(2, 1, 1, 9))\n",
      "failed on:sarima((2, 2, 2)X(2, 1, 1, 12))\n",
      "failed on:sarima((2, 2, 2)X(3, 0, 0, 3))\n",
      "failed on:sarima((2, 2, 2)X(3, 0, 0, 6))\n",
      "failed on:sarima((2, 2, 2)X(3, 0, 0, 9))\n",
      "failed on:sarima((2, 2, 2)X(3, 0, 0, 12))\n",
      "failed on:sarima((2, 2, 2)X(3, 0, 1, 3))\n",
      "failed on:sarima((2, 2, 2)X(3, 0, 1, 6))\n",
      "failed on:sarima((2, 2, 2)X(3, 0, 1, 9))\n",
      "failed on:sarima((2, 2, 2)X(3, 0, 1, 12))\n",
      "failed on:sarima((2, 2, 2)X(3, 1, 0, 9))\n",
      "failed on:sarima((2, 2, 2)X(3, 1, 0, 12))\n",
      "failed on:sarima((2, 2, 2)X(3, 1, 1, 9))\n",
      "failed on:sarima((2, 2, 2)X(3, 1, 1, 12))\n",
      "failed on:sarima((2, 2, 3)X(0, 1, 0, 3))\n",
      "failed on:sarima((2, 2, 3)X(0, 1, 1, 3))\n",
      "failed on:sarima((2, 2, 3)X(1, 1, 0, 3))\n",
      "failed on:sarima((2, 2, 3)X(1, 1, 1, 3))\n",
      "failed on:sarima((2, 2, 3)X(2, 1, 0, 3))\n",
      "failed on:sarima((2, 2, 3)X(2, 1, 1, 3))\n",
      "failed on:sarima((2, 2, 3)X(3, 1, 0, 3))\n",
      "failed on:sarima((2, 2, 3)X(3, 1, 1, 3))\n",
      "failed on:sarima((3, 0, 2)X(0, 0, 0, 3))\n",
      "failed on:sarima((3, 0, 2)X(0, 0, 0, 6))\n",
      "failed on:sarima((3, 0, 2)X(0, 0, 0, 9))\n",
      "failed on:sarima((3, 0, 2)X(0, 0, 0, 12))\n",
      "failed on:sarima((3, 0, 2)X(0, 0, 1, 3))\n",
      "failed on:sarima((3, 0, 2)X(0, 0, 1, 6))\n",
      "failed on:sarima((3, 0, 2)X(0, 0, 1, 9))\n",
      "failed on:sarima((3, 0, 2)X(0, 0, 1, 12))\n",
      "failed on:sarima((3, 0, 2)X(0, 1, 0, 6))\n",
      "failed on:sarima((3, 0, 2)X(0, 1, 0, 9))\n",
      "failed on:sarima((3, 0, 2)X(0, 1, 0, 12))\n",
      "failed on:sarima((3, 0, 2)X(0, 1, 1, 6))\n",
      "failed on:sarima((3, 0, 2)X(0, 1, 1, 9))\n",
      "failed on:sarima((3, 0, 2)X(0, 1, 1, 12))\n",
      "failed on:sarima((3, 0, 2)X(1, 0, 0, 3))\n",
      "failed on:sarima((3, 0, 2)X(1, 0, 0, 6))\n",
      "failed on:sarima((3, 0, 2)X(1, 0, 0, 9))\n",
      "failed on:sarima((3, 0, 2)X(1, 0, 0, 12))\n",
      "failed on:sarima((3, 0, 2)X(1, 0, 1, 3))\n",
      "failed on:sarima((3, 0, 2)X(1, 0, 1, 6))\n",
      "failed on:sarima((3, 0, 2)X(1, 0, 1, 9))\n",
      "failed on:sarima((3, 0, 2)X(1, 0, 1, 12))\n",
      "failed on:sarima((3, 0, 2)X(1, 1, 0, 6))\n",
      "failed on:sarima((3, 0, 2)X(1, 1, 0, 9))\n",
      "failed on:sarima((3, 0, 2)X(1, 1, 0, 12))\n",
      "failed on:sarima((3, 0, 2)X(1, 1, 1, 6))\n",
      "failed on:sarima((3, 0, 2)X(1, 1, 1, 9))\n",
      "failed on:sarima((3, 0, 2)X(1, 1, 1, 12))\n",
      "failed on:sarima((3, 0, 2)X(2, 0, 0, 3))\n",
      "failed on:sarima((3, 0, 2)X(2, 0, 0, 6))\n",
      "failed on:sarima((3, 0, 2)X(2, 0, 0, 9))\n",
      "failed on:sarima((3, 0, 2)X(2, 0, 0, 12))\n",
      "failed on:sarima((3, 0, 2)X(2, 0, 1, 3))\n",
      "failed on:sarima((3, 0, 2)X(2, 0, 1, 6))\n",
      "failed on:sarima((3, 0, 2)X(2, 0, 1, 9))\n",
      "failed on:sarima((3, 0, 2)X(2, 0, 1, 12))\n",
      "failed on:sarima((3, 0, 2)X(2, 1, 0, 6))\n",
      "failed on:sarima((3, 0, 2)X(2, 1, 0, 9))\n",
      "failed on:sarima((3, 0, 2)X(2, 1, 0, 12))\n",
      "failed on:sarima((3, 0, 2)X(2, 1, 1, 6))\n",
      "failed on:sarima((3, 0, 2)X(2, 1, 1, 9))\n",
      "failed on:sarima((3, 0, 2)X(2, 1, 1, 12))\n",
      "failed on:sarima((3, 0, 2)X(3, 0, 0, 3))\n",
      "failed on:sarima((3, 0, 2)X(3, 0, 0, 6))\n",
      "failed on:sarima((3, 0, 2)X(3, 0, 0, 9))\n",
      "failed on:sarima((3, 0, 2)X(3, 0, 0, 12))\n",
      "failed on:sarima((3, 0, 2)X(3, 0, 1, 3))\n",
      "failed on:sarima((3, 0, 2)X(3, 0, 1, 6))\n",
      "failed on:sarima((3, 0, 2)X(3, 0, 1, 9))\n",
      "failed on:sarima((3, 0, 2)X(3, 0, 1, 12))\n",
      "failed on:sarima((3, 0, 2)X(3, 1, 0, 6))\n",
      "failed on:sarima((3, 0, 2)X(3, 1, 0, 9))\n",
      "failed on:sarima((3, 0, 2)X(3, 1, 0, 12))\n",
      "failed on:sarima((3, 0, 2)X(3, 1, 1, 6))\n",
      "failed on:sarima((3, 0, 2)X(3, 1, 1, 9))\n",
      "failed on:sarima((3, 0, 2)X(3, 1, 1, 12))\n",
      "failed on:sarima((3, 0, 3)X(0, 1, 0, 6))\n",
      "failed on:sarima((3, 0, 3)X(0, 1, 0, 9))\n",
      "failed on:sarima((3, 0, 3)X(0, 1, 0, 12))\n",
      "failed on:sarima((3, 0, 3)X(0, 1, 1, 6))\n",
      "failed on:sarima((3, 0, 3)X(0, 1, 1, 9))\n",
      "failed on:sarima((3, 0, 3)X(0, 1, 1, 12))\n",
      "failed on:sarima((3, 0, 3)X(1, 1, 0, 6))\n",
      "failed on:sarima((3, 0, 3)X(1, 1, 0, 9))\n",
      "failed on:sarima((3, 0, 3)X(1, 1, 0, 12))\n",
      "failed on:sarima((3, 0, 3)X(1, 1, 1, 6))\n",
      "failed on:sarima((3, 0, 3)X(1, 1, 1, 9))\n",
      "failed on:sarima((3, 0, 3)X(1, 1, 1, 12))\n",
      "failed on:sarima((3, 0, 3)X(2, 1, 0, 6))\n",
      "failed on:sarima((3, 0, 3)X(2, 1, 0, 9))\n",
      "failed on:sarima((3, 0, 3)X(2, 1, 0, 12))\n",
      "failed on:sarima((3, 0, 3)X(2, 1, 1, 6))\n",
      "failed on:sarima((3, 0, 3)X(2, 1, 1, 9))\n",
      "failed on:sarima((3, 0, 3)X(2, 1, 1, 12))\n",
      "failed on:sarima((3, 0, 3)X(3, 1, 0, 6))\n",
      "failed on:sarima((3, 0, 3)X(3, 1, 0, 9))\n",
      "failed on:sarima((3, 0, 3)X(3, 1, 0, 12))\n",
      "failed on:sarima((3, 0, 3)X(3, 1, 1, 6))\n",
      "failed on:sarima((3, 0, 3)X(3, 1, 1, 9))\n",
      "failed on:sarima((3, 0, 3)X(3, 1, 1, 12))\n",
      "failed on:sarima((3, 1, 2)X(0, 1, 0, 6))\n",
      "failed on:sarima((3, 1, 2)X(0, 1, 0, 9))\n",
      "failed on:sarima((3, 1, 2)X(0, 1, 0, 12))\n",
      "failed on:sarima((3, 1, 2)X(0, 1, 1, 6))\n",
      "failed on:sarima((3, 1, 2)X(0, 1, 1, 9))\n",
      "failed on:sarima((3, 1, 2)X(0, 1, 1, 12))\n"
     ]
    },
    {
     "name": "stdout",
     "output_type": "stream",
     "text": [
      "failed on:sarima((3, 1, 2)X(1, 1, 0, 6))\n",
      "failed on:sarima((3, 1, 2)X(1, 1, 0, 9))\n",
      "failed on:sarima((3, 1, 2)X(1, 1, 0, 12))\n",
      "failed on:sarima((3, 1, 2)X(1, 1, 1, 6))\n",
      "failed on:sarima((3, 1, 2)X(1, 1, 1, 9))\n",
      "failed on:sarima((3, 1, 2)X(1, 1, 1, 12))\n",
      "failed on:sarima((3, 1, 2)X(2, 1, 0, 6))\n",
      "failed on:sarima((3, 1, 2)X(2, 1, 0, 9))\n",
      "failed on:sarima((3, 1, 2)X(2, 1, 0, 12))\n",
      "failed on:sarima((3, 1, 2)X(2, 1, 1, 6))\n",
      "failed on:sarima((3, 1, 2)X(2, 1, 1, 9))\n",
      "failed on:sarima((3, 1, 2)X(2, 1, 1, 12))\n",
      "failed on:sarima((3, 1, 2)X(3, 1, 0, 6))\n",
      "failed on:sarima((3, 1, 2)X(3, 1, 0, 9))\n",
      "failed on:sarima((3, 1, 2)X(3, 1, 0, 12))\n",
      "failed on:sarima((3, 1, 2)X(3, 1, 1, 6))\n",
      "failed on:sarima((3, 1, 2)X(3, 1, 1, 9))\n",
      "failed on:sarima((3, 1, 2)X(3, 1, 1, 12))\n",
      "failed on:sarima((3, 1, 3)X(0, 1, 0, 9))\n",
      "failed on:sarima((3, 1, 3)X(0, 1, 1, 9))\n",
      "failed on:sarima((3, 1, 3)X(1, 1, 0, 9))\n",
      "failed on:sarima((3, 1, 3)X(1, 1, 1, 9))\n",
      "failed on:sarima((3, 1, 3)X(2, 1, 0, 9))\n",
      "failed on:sarima((3, 1, 3)X(2, 1, 1, 9))\n",
      "failed on:sarima((3, 1, 3)X(3, 1, 0, 9))\n",
      "failed on:sarima((3, 1, 3)X(3, 1, 1, 9))\n",
      "failed on:sarima((3, 2, 2)X(0, 0, 0, 3))\n",
      "failed on:sarima((3, 2, 2)X(0, 0, 0, 6))\n",
      "failed on:sarima((3, 2, 2)X(0, 0, 0, 9))\n",
      "failed on:sarima((3, 2, 2)X(0, 0, 0, 12))\n",
      "failed on:sarima((3, 2, 2)X(0, 0, 1, 3))\n",
      "failed on:sarima((3, 2, 2)X(0, 0, 1, 6))\n",
      "failed on:sarima((3, 2, 2)X(0, 0, 1, 9))\n",
      "failed on:sarima((3, 2, 2)X(0, 0, 1, 12))\n",
      "failed on:sarima((3, 2, 2)X(0, 1, 0, 9))\n",
      "failed on:sarima((3, 2, 2)X(0, 1, 0, 12))\n",
      "failed on:sarima((3, 2, 2)X(0, 1, 1, 9))\n",
      "failed on:sarima((3, 2, 2)X(0, 1, 1, 12))\n",
      "failed on:sarima((3, 2, 2)X(1, 0, 0, 3))\n",
      "failed on:sarima((3, 2, 2)X(1, 0, 0, 6))\n",
      "failed on:sarima((3, 2, 2)X(1, 0, 0, 9))\n",
      "failed on:sarima((3, 2, 2)X(1, 0, 0, 12))\n",
      "failed on:sarima((3, 2, 2)X(1, 0, 1, 3))\n",
      "failed on:sarima((3, 2, 2)X(1, 0, 1, 6))\n",
      "failed on:sarima((3, 2, 2)X(1, 0, 1, 9))\n",
      "failed on:sarima((3, 2, 2)X(1, 0, 1, 12))\n",
      "failed on:sarima((3, 2, 2)X(1, 1, 0, 9))\n",
      "failed on:sarima((3, 2, 2)X(1, 1, 0, 12))\n",
      "failed on:sarima((3, 2, 2)X(1, 1, 1, 9))\n",
      "failed on:sarima((3, 2, 2)X(1, 1, 1, 12))\n",
      "failed on:sarima((3, 2, 2)X(2, 0, 0, 3))\n",
      "failed on:sarima((3, 2, 2)X(2, 0, 0, 6))\n",
      "failed on:sarima((3, 2, 2)X(2, 0, 0, 9))\n",
      "failed on:sarima((3, 2, 2)X(2, 0, 0, 12))\n",
      "failed on:sarima((3, 2, 2)X(2, 0, 1, 3))\n",
      "failed on:sarima((3, 2, 2)X(2, 0, 1, 6))\n",
      "failed on:sarima((3, 2, 2)X(2, 0, 1, 9))\n",
      "failed on:sarima((3, 2, 2)X(2, 0, 1, 12))\n",
      "failed on:sarima((3, 2, 2)X(2, 1, 0, 9))\n",
      "failed on:sarima((3, 2, 2)X(2, 1, 0, 12))\n",
      "failed on:sarima((3, 2, 2)X(2, 1, 1, 9))\n",
      "failed on:sarima((3, 2, 2)X(2, 1, 1, 12))\n",
      "failed on:sarima((3, 2, 2)X(3, 0, 0, 3))\n",
      "failed on:sarima((3, 2, 2)X(3, 0, 0, 6))\n",
      "failed on:sarima((3, 2, 2)X(3, 0, 0, 9))\n",
      "failed on:sarima((3, 2, 2)X(3, 0, 0, 12))\n",
      "failed on:sarima((3, 2, 2)X(3, 0, 1, 3))\n",
      "failed on:sarima((3, 2, 2)X(3, 0, 1, 6))\n",
      "failed on:sarima((3, 2, 2)X(3, 0, 1, 9))\n",
      "failed on:sarima((3, 2, 2)X(3, 0, 1, 12))\n",
      "failed on:sarima((3, 2, 2)X(3, 1, 0, 9))\n",
      "failed on:sarima((3, 2, 2)X(3, 1, 0, 12))\n",
      "failed on:sarima((3, 2, 2)X(3, 1, 1, 9))\n",
      "failed on:sarima((3, 2, 2)X(3, 1, 1, 12))\n",
      "failed on:sarima((3, 2, 3)X(0, 1, 0, 3))\n",
      "failed on:sarima((3, 2, 3)X(0, 1, 0, 12))\n",
      "failed on:sarima((3, 2, 3)X(0, 1, 1, 3))\n",
      "failed on:sarima((3, 2, 3)X(0, 1, 1, 12))\n",
      "failed on:sarima((3, 2, 3)X(1, 1, 0, 3))\n",
      "failed on:sarima((3, 2, 3)X(1, 1, 0, 12))\n",
      "failed on:sarima((3, 2, 3)X(1, 1, 1, 3))\n",
      "failed on:sarima((3, 2, 3)X(1, 1, 1, 12))\n",
      "failed on:sarima((3, 2, 3)X(2, 1, 0, 3))\n",
      "failed on:sarima((3, 2, 3)X(2, 1, 0, 12))\n",
      "failed on:sarima((3, 2, 3)X(2, 1, 1, 3))\n",
      "failed on:sarima((3, 2, 3)X(2, 1, 1, 12))\n",
      "failed on:sarima((3, 2, 3)X(3, 1, 0, 3))\n",
      "failed on:sarima((3, 2, 3)X(3, 1, 0, 12))\n",
      "failed on:sarima((3, 2, 3)X(3, 1, 1, 3))\n",
      "failed on:sarima((3, 2, 3)X(3, 1, 1, 12))\n"
     ]
    }
   ],
   "source": [
    "sarima_fit = {}\n",
    "for model in all_sarima:\n",
    "    try:\n",
    "        m_fit = all_sarima[model].fit()\n",
    "        sarima_fit[model]=m_fit\n",
    "    except:\n",
    "        print('failed on:{0}'.format(model))\n",
    "        pass\n",
    "\n"
   ]
  },
  {
   "cell_type": "code",
   "execution_count": 25,
   "metadata": {},
   "outputs": [
    {
     "name": "stdout",
     "output_type": "stream",
     "text": [
      "sarima((0, 0, 0)X(0, 0, 0, 3))     3965.252119\n",
      "sarima((0, 0, 0)X(0, 0, 0, 6))     3965.252119\n",
      "sarima((0, 0, 0)X(0, 0, 0, 9))     3965.252119\n",
      "sarima((0, 0, 0)X(0, 0, 0, 12))    3965.252119\n",
      "sarima((0, 0, 0)X(0, 0, 1, 3))     3617.416620\n",
      "sarima((0, 0, 0)X(0, 0, 1, 6))     3682.959933\n",
      "sarima((0, 0, 0)X(0, 0, 1, 9))     3707.216774\n",
      "sarima((0, 0, 0)X(0, 0, 1, 12))    3739.535071\n",
      "sarima((0, 0, 0)X(0, 1, 0, 3))     3245.956705\n",
      "sarima((0, 0, 0)X(0, 1, 0, 6))     3439.319598\n",
      "sarima((0, 0, 0)X(0, 1, 0, 9))     3542.650666\n",
      "sarima((0, 0, 0)X(0, 1, 0, 12))    3636.934543\n",
      "sarima((0, 0, 0)X(0, 1, 1, 3))     3215.620078\n",
      "sarima((0, 0, 0)X(0, 1, 1, 6))     3422.304083\n",
      "sarima((0, 0, 0)X(0, 1, 1, 9))     3535.709999\n",
      "sarima((0, 0, 0)X(0, 1, 1, 12))    3623.250614\n",
      "sarima((0, 0, 0)X(1, 0, 0, 3))     3237.868044\n",
      "sarima((0, 0, 0)X(1, 0, 0, 6))     3436.154543\n",
      "sarima((0, 0, 0)X(1, 0, 0, 9))     3546.882279\n",
      "sarima((0, 0, 0)X(1, 0, 0, 12))    3647.089720\n",
      "sarima((0, 0, 0)X(1, 0, 1, 3))     3221.555194\n",
      "sarima((0, 0, 0)X(1, 0, 1, 6))     3433.540756\n",
      "sarima((0, 0, 0)X(1, 0, 1, 9))     3548.846414\n",
      "sarima((0, 0, 0)X(1, 0, 1, 12))    3649.079737\n",
      "sarima((0, 0, 0)X(1, 1, 0, 3))     3220.272526\n",
      "sarima((0, 0, 0)X(1, 1, 0, 6))     3423.562543\n",
      "sarima((0, 0, 0)X(1, 1, 0, 9))     3537.595738\n",
      "sarima((0, 0, 0)X(1, 1, 0, 12))    3624.698013\n",
      "sarima((0, 0, 0)X(1, 1, 1, 3))     3217.224541\n",
      "sarima((0, 0, 0)X(1, 1, 1, 6))     3423.021780\n",
      "                                      ...     \n",
      "sarima((3, 2, 3)X(1, 0, 1, 9))     2778.121357\n",
      "sarima((3, 2, 3)X(1, 0, 1, 12))    2779.943584\n",
      "sarima((3, 2, 3)X(1, 1, 0, 6))     2917.692331\n",
      "sarima((3, 2, 3)X(1, 1, 0, 9))     2910.489734\n",
      "sarima((3, 2, 3)X(1, 1, 1, 6))     2777.831058\n",
      "sarima((3, 2, 3)X(1, 1, 1, 9))     2770.876025\n",
      "sarima((3, 2, 3)X(2, 0, 0, 3))     2775.159736\n",
      "sarima((3, 2, 3)X(2, 0, 0, 6))     2782.824112\n",
      "sarima((3, 2, 3)X(2, 0, 0, 9))     2778.193659\n",
      "sarima((3, 2, 3)X(2, 0, 0, 12))    2781.217537\n",
      "sarima((3, 2, 3)X(2, 0, 1, 3))     2777.128620\n",
      "sarima((3, 2, 3)X(2, 0, 1, 6))     2779.393686\n",
      "sarima((3, 2, 3)X(2, 0, 1, 9))     2780.286243\n",
      "sarima((3, 2, 3)X(2, 0, 1, 12))    2783.191997\n",
      "sarima((3, 2, 3)X(2, 1, 0, 6))     2868.376164\n",
      "sarima((3, 2, 3)X(2, 1, 0, 9))     2864.654225\n",
      "sarima((3, 2, 3)X(2, 1, 1, 6))     2778.456801\n",
      "sarima((3, 2, 3)X(2, 1, 1, 9))     2772.944857\n",
      "sarima((3, 2, 3)X(3, 0, 0, 3))     2780.407225\n",
      "sarima((3, 2, 3)X(3, 0, 0, 6))     2784.314065\n",
      "sarima((3, 2, 3)X(3, 0, 0, 9))     2780.499897\n",
      "sarima((3, 2, 3)X(3, 0, 0, 12))    2783.189033\n",
      "sarima((3, 2, 3)X(3, 0, 1, 3))     2780.384518\n",
      "sarima((3, 2, 3)X(3, 0, 1, 6))     2781.926714\n",
      "sarima((3, 2, 3)X(3, 0, 1, 9))     2782.207003\n",
      "sarima((3, 2, 3)X(3, 0, 1, 12))    2785.140005\n",
      "sarima((3, 2, 3)X(3, 1, 0, 6))     2841.030722\n",
      "sarima((3, 2, 3)X(3, 1, 0, 9))     2839.968146\n",
      "sarima((3, 2, 3)X(3, 1, 1, 6))     2780.398138\n",
      "sarima((3, 2, 3)X(3, 1, 1, 9))     2774.833941\n",
      "Length: 2582, dtype: float64\n",
      "sarima((1, 1, 1)X(0, 1, 1, 12))\n"
     ]
    }
   ],
   "source": [
    "sarima_aic= pd.Series({x: sarima_fit[x].aic for x in sarima_fit})\n",
    "sarima_opt= sarima_fit[sarima_aic[sarima_aic==sarima_aic.min()].index[0]]\n",
    "\n",
    "print(sarima_aic)\n",
    "print(sarima_aic[sarima_aic==sarima_aic.min()].index[0])\n"
   ]
  },
  {
   "cell_type": "code",
   "execution_count": 28,
   "metadata": {},
   "outputs": [
    {
     "data": {
      "image/png": "[encoded data removed]",
      "text/plain": [
       "<Figure size 432x288 with 4 Axes>"
      ]
     },
     "execution_count": 28,
     "metadata": {},
     "output_type": "execute_result"
    },
    {
     "data": {
      "image/png": "[encoded data removed]",
      "text/plain": [
       "<Figure size 432x288 with 4 Axes>"
      ]
     },
     "metadata": {
      "needs_background": "light"
     },
     "output_type": "display_data"
    }
   ],
   "source": [
    "sarima_opt.plot_diagnostics()"
   ]
  },
  {
   "cell_type": "code",
   "execution_count": 32,
   "metadata": {},
   "outputs": [
    {
     "data": {
      "text/plain": [
       "<matplotlib.axes._subplots.AxesSubplot at 0x182d9cd0a20>"
      ]
     },
     "execution_count": 32,
     "metadata": {},
     "output_type": "execute_result"
    },
    {
     "data": {
      "image/png": "[encoded data removed]",
      "text/plain": [
       "<Figure size 432x288 with 1 Axes>"
      ]
     },
     "metadata": {
      "needs_background": "light"
     },
     "output_type": "display_data"
    }
   ],
   "source": [
    "plot_data = pd.DataFrame({'obs': ddata_cons, 'fit':sarima_opt.fittedvalues})\n",
    "# the plot is definitely wrong\n",
    "# I don't think the fittedvalues attribute for ARIMA models is correct\n",
    "# no documentation on it\n",
    "\n",
    "plot_data.plot()"
   ]
  },
  {
   "cell_type": "markdown",
   "metadata": {},
   "source": [
    "### Comparing AIC"
   ]
  },
  {
   "cell_type": "code",
   "execution_count": 65,
   "metadata": {},
   "outputs": [],
   "source": [
    "# summarizing fits\n",
    "\n",
    "optimal_models = {'AR({0})'.format(ar_opt.k_ar):ar_opt.aic,\n",
    "                 'ARMA({0},{1})'.format(arma_opt.k_ar,arma_opt.k_ma):arma_opt.aic,\n",
    "                 'ARIMA({0},{1},{2})'}"
   ]
  },
  {
   "cell_type": "code",
   "execution_count": 66,
   "metadata": {},
   "outputs": [
    {
     "data": {
      "text/plain": [
       "{'AR(6)': 2.6992842609610754}"
      ]
     },
     "execution_count": 66,
     "metadata": {},
     "output_type": "execute_result"
    }
   ],
   "source": [
    "optimal_models"
   ]
  },
  {
   "cell_type": "code",
   "execution_count": 67,
   "metadata": {},
   "outputs": [
    {
     "data": {
      "text/plain": [
       "array([ -6.10801903,  -3.16460962,  -7.76770522,  -5.5240246 ,\n",
       "        -6.34659118, -10.80824384, -18.199181  , -12.80350036,\n",
       "       -11.62493554, -16.86515822, -18.34476866, -17.6209209 ,\n",
       "       -19.63999344, -23.99274735, -20.26974998, -19.0974356 ,\n",
       "       -23.23108792, -21.52325704, -24.56027381, -18.75025485,\n",
       "       -18.70437413, -28.79124807, -31.14762231, -32.7060611 ,\n",
       "       -26.06570185, -22.7126728 , -19.03549187, -13.40559595,\n",
       "       -12.87900059, -10.53438272, -21.54504973, -14.21451374,\n",
       "       -18.43626749, -18.81936866, -12.24454113, -10.90071057,\n",
       "       -12.96795105, -11.95960742,  -9.49445164, -13.20323469,\n",
       "       -14.81206172, -22.20457945, -20.38433343, -14.03739134,\n",
       "       -19.12133351, -22.56220018, -19.8195869 , -18.71270969,\n",
       "       -19.61406031, -19.77667474, -20.40842268, -16.65183545,\n",
       "       -12.80228756, -14.32848254, -14.20842   , -15.69151906,\n",
       "       -11.63306121,  -5.71043966,   1.4820835 ,   5.23495373,\n",
       "         3.9910381 ,   5.09424118,   3.57001392,   3.33461827,\n",
       "         3.32605973,   4.77146659,   7.64662361,  12.78243054,\n",
       "        10.00807319,  13.58769288,   9.00858778,  11.08801897,\n",
       "         9.37325931,   9.89515335,  12.83114406,  13.62547879,\n",
       "         9.74616675,   9.28160716,   6.65399661,   9.63502343,\n",
       "         7.70504133,   7.37006166,   8.38156799,   5.1660717 ,\n",
       "        10.16250565,   7.29516063,   5.91927581,   6.13767592,\n",
       "         2.01912884,   5.12742197,   7.47913262,   8.62710539,\n",
       "         9.1720919 ,   8.035878  ,   9.24707109,   8.08542258,\n",
       "        12.47542952,  10.8127681 ,   8.22985204,   5.97868783,\n",
       "         9.0179953 ,   5.29799192,   3.41474419,   4.69930388,\n",
       "         3.66735876,   4.82009824,   6.38285933,   4.37730955,\n",
       "         5.07138385,   7.05649974,   7.44502265,   7.04735964,\n",
       "         3.033578  ,  -2.50754555,   1.33710238,   4.59880627,\n",
       "         5.11749838,   8.02204236,   4.00394582,   7.7733963 ,\n",
       "         7.86167499,   6.51512664,  10.95142485,   9.99783583,\n",
       "         7.47734004,   6.88899745,   5.4751356 ,  11.34492135,\n",
       "         8.78740301,   7.76512211,   5.38426805,   4.20260123,\n",
       "         4.82775614,   5.80318403,   3.52947395,   9.18617333,\n",
       "         6.97138098,   4.27764186,   4.59173698,   6.13623735,\n",
       "         3.38650363,   5.2983318 ,   7.31406882,   3.81480795,\n",
       "         2.51101705,   2.10860531,  -8.93377357, -11.14309097,\n",
       "       -19.61921274, -17.92401458, -18.14605284, -18.22131843,\n",
       "       -14.72545508,  -0.03400214,  -6.15678776,  -8.5908037 ,\n",
       "        -4.41065325,  -4.93795722,  -3.69891033,  -2.94309769,\n",
       "        -7.93180245, -15.79507154, -15.99122811, -17.14845594,\n",
       "       -15.89757977,  -9.30121109,  -9.53495739,  -7.58732614,\n",
       "        -6.44101702, -10.23993141,  -9.68450977, -10.15956443,\n",
       "       -12.28183829,  -0.7397494 ,   3.33753946,   1.59539583,\n",
       "        -0.07988535,  -1.3624772 ,  -0.83991083,  -5.13677123,\n",
       "        -3.74507056,  -8.34734663,  -8.02937619,  -7.25472498,\n",
       "        -3.66246124,  -4.90970562,   1.29427021,   6.63789598,\n",
       "         5.11761497,   4.63783536,   5.38067478,   5.7570476 ,\n",
       "         4.92996439,   3.04050257,   5.39080213,   5.02387674,\n",
       "         6.24161192,   5.22750839,   8.1475151 ,  10.55169384,\n",
       "         8.03598076,   4.15684307,   6.18877146,   3.55283384,\n",
       "         6.67238496,   8.12485803,   9.00611962,   2.71583474,\n",
       "         4.01564966,   2.1802283 ,   4.69003754,   3.59656771,\n",
       "         2.11181152,   7.28909689,   5.5747994 ,   3.08387375,\n",
       "         6.11243199,   7.51990509,   8.47475203,   8.16277156,\n",
       "         9.43611741,  11.99253464,   9.92501493,  10.76571962,\n",
       "        12.73364773,  12.80624104,  14.57940704,  15.98235215,\n",
       "        17.0241267 ,  19.66192482,  17.05762769,  18.84810303,\n",
       "        18.5243589 ,  19.92797245,  15.61808775,  19.72637723,\n",
       "        23.08525618,  19.01618696,  22.04432119,  19.12483323,\n",
       "        18.55732968,  18.91763472,  17.55166661,  14.69314267,\n",
       "        11.4732919 ,  16.39329421,  13.82010863,  17.21697636,\n",
       "        20.89550504,  17.72097706,  17.78072536,  19.54644131,\n",
       "        19.83917172,  19.20500991,  17.8213807 ,  20.14112482,\n",
       "        16.39332205,  20.46911308,  18.53147948,  24.3429246 ,\n",
       "        23.93673634,  19.52763712,  22.49959851,  23.02334701,\n",
       "        19.57643343,  21.90551442,  20.25361842,  19.85242708,\n",
       "        19.43777047,  20.54219043,  12.16015905,   9.24666262,\n",
       "         5.55294108,   5.96219738,   3.56280158,   6.20909448,\n",
       "         6.37342424,   5.63285864,   5.26120753,  -4.15930483,\n",
       "        -2.42314082,  -1.56808346,   2.54718474,   6.69783764,\n",
       "         3.41947573,   8.48999779,   5.62040519,   9.65993649,\n",
       "         5.98279517,   1.72877565,   2.26867548,   0.10692878,\n",
       "        -4.3710241 ,  -0.9648042 ,   0.51020311,  -3.7015542 ,\n",
       "        -5.34869905,  -8.11687697,  -0.24138628,   5.23976261,\n",
       "         2.47046375,   4.09394479,   1.96466271,   1.01118455,\n",
       "         3.6558914 ,   6.89329163,   5.83215706,  16.34098926,\n",
       "         6.82998169,   8.87032443,   8.02283058,   3.27406531,\n",
       "        10.27185869,   9.72779509,   9.1383898 ,   7.94665573,\n",
       "         5.01646215,   6.60446709,  10.53880807,   8.74720937,\n",
       "         7.68287228,   6.19033961,   1.51001835,   1.52936492,\n",
       "         9.71582669,   9.34785841,   2.83048495,  -8.04891344,\n",
       "       -10.59808372,  -3.28286974,   5.35410359,   4.53242855,\n",
       "        -0.16226299,   1.78998641,   0.29789038,  -6.3452906 ,\n",
       "        -0.1798485 ,  -1.58916428,  -3.93636582,  -0.04198522,\n",
       "         6.01313646,   4.71216406,   4.91897412,   9.5386703 ,\n",
       "         3.82149518,   2.54820301,   1.46972018,   1.99545369,\n",
       "        -0.10266873,   4.36424058,  -2.65260587,  -2.42662681,\n",
       "        -4.38587939,  -9.5702247 ,  -8.91948478,  -7.15077506,\n",
       "       -14.39057578, -15.03288312, -21.84670987, -24.58267455,\n",
       "       -26.98798805, -23.40202134, -21.93550092, -15.87384862,\n",
       "       -27.88235006, -29.6240749 , -24.6841539 , -24.80007322,\n",
       "       -27.80997879, -27.5412305 , -21.02222457, -17.92544818,\n",
       "       -15.56052249, -20.29041691, -20.46030273, -12.69423902,\n",
       "       -15.80819626, -17.88499449, -13.22085013, -12.49661154,\n",
       "       -12.36449769, -12.16581657, -14.05247189, -12.29576711,\n",
       "        -9.95485885, -17.77243736, -16.04916743, -17.09873138,\n",
       "       -17.82293721, -13.4045488 , -11.93122893, -12.1545274 ,\n",
       "        -8.90699718, -18.52291679, -15.49187066, -11.27332606,\n",
       "       -14.71637218, -20.56827364, -28.44433072, -24.88709153,\n",
       "       -23.7772237 , -21.21107287, -15.80698269, -12.41566388,\n",
       "       -11.8848766 , -10.7481831 , -10.49512194,  -7.47395762,\n",
       "       -12.72829533, -13.1284722 , -11.17885114,  -8.03931117,\n",
       "        -3.62416205,  -4.19794189, -13.1986752 , -11.63124454,\n",
       "        -8.26890963,  -7.51106336,  -8.84994627,  -2.14024488,\n",
       "        -3.1676024 ,  -1.78000193,  -4.05317495,  -8.83869036,\n",
       "       -11.68725604, -10.00456925,  -3.29228819,  -5.09821065,\n",
       "        -4.60202794,  -6.40384402,  -2.83134951,  -4.28678111,\n",
       "        -3.72207378,  -4.15242755,  -3.95991055,  -1.49530165,\n",
       "         0.2194322 ,   2.01503673,   6.34859367,  10.28225545,\n",
       "         7.77999317,   6.15394117,   8.98863615,   4.06325796,\n",
       "         9.97667037,   6.73544017,   5.30583179,   1.81467679,\n",
       "         3.66051301,   5.2735792 ,   6.03583684,   5.7152729 ,\n",
       "         4.89553764,   4.51524384,   2.73593777,   8.26115294,\n",
       "         6.68197052,   3.5983853 ,   3.88164353,   4.48783533,\n",
       "         1.23391545,   7.6897769 ,  10.94873203,  10.84509023,\n",
       "         9.56377336,   9.60758303,  10.03141538,  10.48228523,\n",
       "         8.73433692,   7.12849905,  10.37286571,   8.4759378 ,\n",
       "        13.9070502 ,  11.50847941,   8.93463607,   9.54113917,\n",
       "        12.56494731,  14.49658642,  12.01643993,  11.38280229,\n",
       "        11.35039737,  11.24693465,  10.00958689,  13.49295895,\n",
       "        11.71945025,  10.86354178,  11.86443396,   4.75806625,\n",
       "         8.0696339 ,  11.92523376,  10.14868823,  13.54900722,\n",
       "        10.97012335,  11.26767454,   3.94358502])"
      ]
     },
     "execution_count": 67,
     "metadata": {},
     "output_type": "execute_result"
    }
   ],
   "source": []
  },
  {
   "cell_type": "code",
   "execution_count": null,
   "metadata": {},
   "outputs": [],
   "source": []
  }
 ],
 "metadata": {
  "kernelspec": {
   "display_name": "Python 3",
   "language": "python",
   "name": "python3"
  },
  "language_info": {
   "codemirror_mode": {
    "name": "ipython",
    "version": 3
   },
   "file_extension": ".py",
   "mimetype": "text/x-python",
   "name": "python",
   "nbconvert_exporter": "python",
   "pygments_lexer": "ipython3",
   "version": "3.7.1"
  }
 },
 "nbformat": 4,
 "nbformat_minor": 2
}
